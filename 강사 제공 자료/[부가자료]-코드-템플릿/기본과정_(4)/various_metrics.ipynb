{
 "cells": [
  {
   "cell_type": "markdown",
   "metadata": {},
   "source": [
    "# Various Metrics"
   ]
  },
  {
   "cell_type": "markdown",
   "metadata": {},
   "source": [
    "### mnist data를 학습 후, scikit-learn 라이브러리를 이용해서 accuracy 외에도 precision, recall, f1 score 등의 다양한 metric들을 구해본다"
   ]
  },
  {
   "cell_type": "code",
   "execution_count": 13,
   "metadata": {},
   "outputs": [
    {
     "name": "stdout",
     "output_type": "stream",
     "text": [
      "train finished\n"
     ]
    }
   ],
   "source": [
    "##tenssorflow==2.3 환경에서 구현 \n",
    "import tensorflow as tf\n",
    "import numpy as np\n",
    "from tensorflow.keras.datasets import mnist\n",
    "from tensorflow.keras.utils import to_categorical\n",
    "from tensorflow.keras.optimizers import Adam\n",
    "\n",
    "(mnist_train, mnist_train_label), (mnist_test, mnist_test_label) = mnist.load_data() #mnist data road\n",
    "#normalization 적용\n",
    "mnist_train=mnist_train/255\n",
    "mnist_test=mnist_test/255\n",
    "\n",
    "mnist_train=tf.cast(mnist_train, tf.float32)\n",
    "mnist_train=np.expand_dims(mnist_train, -1)\n",
    "mnist_test=tf.cast(mnist_test, tf.float32)\n",
    "mnist_test=np.expand_dims(mnist_test, -1)\n",
    "\n",
    "#one hot encoding\n",
    "train_labels = to_categorical(mnist_train_label, 10)\n",
    "test_labels = to_categorical(mnist_test_label, 10) \n",
    "\n",
    "class_number = 10 \n",
    "\n",
    "# keras로 모델 구성 후, 학습\n",
    "inputs = tf.keras.Input(shape=(28,28,1))\n",
    "x = tf.keras.layers.Conv2D(kernel_size=(3,3), filters=16, activation='relu',padding=\"same\")(inputs)\n",
    "x = tf.keras.layers.MaxPooling2D((2,2),strides=(1, 1))(x)\n",
    "x = tf.keras.layers.Dropout(0.2)(x)\n",
    "x = tf.keras.layers.Conv2D(kernel_size=(3,3), filters=32, activation='relu',padding=\"same\")(x)\n",
    "x = tf.keras.layers.MaxPooling2D((2,2),strides=(1, 1))(x)\n",
    "x = tf.keras.layers.Dropout(0.2)(x)\n",
    "x = tf.keras.layers.Conv2D(kernel_size=(3,3), filters=64, activation='relu',padding=\"same\")(x)\n",
    "x = tf.keras.layers.MaxPooling2D((2,2),strides=(2, 2))(x)\n",
    "x = tf.keras.layers.Dropout(0.2)(x)\n",
    "x = tf.keras.layers.Conv2D(kernel_size=(3,3), filters=128, activation='relu',padding=\"same\")(x)\n",
    "x = tf.keras.layers.MaxPooling2D((2,2),strides=(2, 2))(x)\n",
    "x = tf.keras.layers.Dropout(0.2)(x)\n",
    "x = tf.keras.layers.Conv2D(kernel_size=(3,3), filters=256, activation='relu',padding=\"same\")(x)\n",
    "x = tf.keras.layers.MaxPooling2D((2,2),strides=(2, 2))(x)\n",
    "x = tf.keras.layers.Dropout(0.2)(x)\n",
    "x = tf.keras.layers.Dense(256, activation='relu')(x)\n",
    "x = tf.keras.layers.Dropout(0.5)(x)\n",
    "x = tf.keras.layers.Flatten()(x)\n",
    "outputs = tf.keras.layers.Dense(class_number, activation=\"softmax\")(x)\n",
    "model = tf.keras.Model(inputs=inputs,outputs=outputs)\n",
    "model.compile(optimizer='adam',\n",
    "              loss='categorical_crossentropy',\n",
    "              metrics=['accuracy'])\n",
    "model.fit(mnist_train, train_labels, epochs=100,validation_split=0.2,verbose=0)\n",
    "print(\"train finished\")"
   ]
  },
  {
   "cell_type": "code",
   "execution_count": 14,
   "metadata": {},
   "outputs": [
    {
     "name": "stdout",
     "output_type": "stream",
     "text": [
      "1875/1875 - 3s - loss: 0.0127 - accuracy: 0.9969\n",
      "Train accuracy: 0.9969333410263062\n"
     ]
    }
   ],
   "source": [
    "#최종 train accuracy 측정 (validation 데이터 포함)\n",
    "metrics=model.evaluate(mnist_train, train_labels, verbose=2)\n",
    "print(\"Train accuracy:\", metrics[1])"
   ]
  },
  {
   "cell_type": "code",
   "execution_count": 31,
   "metadata": {},
   "outputs": [],
   "source": [
    "#학습한 모델로 mnist test data predict\n",
    "pred=model.predict(mnist_test)"
   ]
  },
  {
   "cell_type": "code",
   "execution_count": 40,
   "metadata": {},
   "outputs": [
    {
     "name": "stdout",
     "output_type": "stream",
     "text": [
      "              precision    recall  f1-score   support\n",
      "\n",
      "           0       0.99      1.00      0.99       980\n",
      "           1       0.99      0.99      0.99      1135\n",
      "           2       1.00      0.99      1.00      1032\n",
      "           3       1.00      1.00      1.00      1010\n",
      "           4       1.00      0.98      0.99       982\n",
      "           5       0.99      0.99      0.99       892\n",
      "           6       0.99      0.99      0.99       958\n",
      "           7       0.99      1.00      0.99      1028\n",
      "           8       0.99      0.99      0.99       974\n",
      "           9       0.99      0.99      0.99      1009\n",
      "\n",
      "    accuracy                           0.99     10000\n",
      "   macro avg       0.99      0.99      0.99     10000\n",
      "weighted avg       0.99      0.99      0.99     10000\n",
      "\n"
     ]
    }
   ],
   "source": [
    "from sklearn.metrics import classification_report\n",
    "#scikit-learn의 classification_report를 이용해서 다양한 metric들 도출\n",
    "target_names=['0','1','2','3','4','5','6','7','8','9'] #class name\n",
    "print(classification_report(np.argmax(test_labels,axis=-1), np.argmax(pred,axis=-1),target_names = target_names))"
   ]
  }
 ],
 "metadata": {
  "anaconda-cloud": {},
  "kernelspec": {
   "display_name": "Python 3",
   "language": "python",
   "name": "python3"
  },
  "language_info": {
   "codemirror_mode": {
    "name": "ipython",
    "version": 3
   },
   "file_extension": ".py",
   "mimetype": "text/x-python",
   "name": "python",
   "nbconvert_exporter": "python",
   "pygments_lexer": "ipython3",
   "version": "3.6.8"
  }
 },
 "nbformat": 4,
 "nbformat_minor": 4
}
