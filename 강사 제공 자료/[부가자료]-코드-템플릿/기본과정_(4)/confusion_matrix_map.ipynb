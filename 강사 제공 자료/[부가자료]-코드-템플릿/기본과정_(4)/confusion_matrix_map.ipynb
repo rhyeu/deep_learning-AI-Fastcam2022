{
 "cells": [
  {
   "cell_type": "markdown",
   "metadata": {},
   "source": [
    "# Confusion Matrix, mAP"
   ]
  },
  {
   "cell_type": "markdown",
   "metadata": {},
   "source": [
    "### mnist data를 학습 후, scikit-learn 라이브러리를 이용해서 confusion matrix와 mean average precision을 구해본다."
   ]
  },
  {
   "cell_type": "code",
   "execution_count": 5,
   "metadata": {},
   "outputs": [
    {
     "name": "stdout",
     "output_type": "stream",
     "text": [
      "train finished\n"
     ]
    }
   ],
   "source": [
    "##tenssorflow==2.3 환경에서 구현 \n",
    "import tensorflow as tf\n",
    "import numpy as np\n",
    "from tensorflow.keras.datasets import mnist\n",
    "from tensorflow.keras.utils import to_categorical\n",
    "from tensorflow.keras.optimizers import Adam\n",
    "\n",
    "(mnist_train, mnist_train_label), (mnist_test, mnist_test_label) = mnist.load_data() #mnist data road\n",
    "#normalization 적용\n",
    "mnist_train=mnist_train/255\n",
    "mnist_test=mnist_test/255\n",
    "\n",
    "mnist_train=tf.cast(mnist_train, tf.float32)\n",
    "mnist_train=np.expand_dims(mnist_train, -1)\n",
    "mnist_test=tf.cast(mnist_test, tf.float32)\n",
    "mnist_test=np.expand_dims(mnist_test, -1)\n",
    "\n",
    "#one hot encoding\n",
    "train_labels = to_categorical(mnist_train_label, 10)\n",
    "test_labels = to_categorical(mnist_test_label, 10) \n",
    "\n",
    "class_number = 10 \n",
    "\n",
    "# keras로 모델 구성 후, 학습\n",
    "inputs = tf.keras.Input(shape=(28,28,1))\n",
    "x = tf.keras.layers.Conv2D(kernel_size=(3,3), filters=16, activation='relu',padding=\"same\")(inputs)\n",
    "x = tf.keras.layers.MaxPooling2D((2,2),strides=(1, 1))(x)\n",
    "x = tf.keras.layers.Dropout(0.2)(x)\n",
    "x = tf.keras.layers.Conv2D(kernel_size=(3,3), filters=32, activation='relu',padding=\"same\")(x)\n",
    "x = tf.keras.layers.MaxPooling2D((2,2),strides=(1, 1))(x)\n",
    "x = tf.keras.layers.Dropout(0.2)(x)\n",
    "x = tf.keras.layers.Conv2D(kernel_size=(3,3), filters=64, activation='relu',padding=\"same\")(x)\n",
    "x = tf.keras.layers.MaxPooling2D((2,2),strides=(2, 2))(x)\n",
    "x = tf.keras.layers.Dropout(0.2)(x)\n",
    "x = tf.keras.layers.Conv2D(kernel_size=(3,3), filters=128, activation='relu',padding=\"same\")(x)\n",
    "x = tf.keras.layers.MaxPooling2D((2,2),strides=(2, 2))(x)\n",
    "x = tf.keras.layers.Dropout(0.2)(x)\n",
    "x = tf.keras.layers.Conv2D(kernel_size=(3,3), filters=256, activation='relu',padding=\"same\")(x)\n",
    "x = tf.keras.layers.MaxPooling2D((2,2),strides=(2, 2))(x)\n",
    "x = tf.keras.layers.Dropout(0.2)(x)\n",
    "x = tf.keras.layers.Dense(256, activation='relu')(x)\n",
    "x = tf.keras.layers.Dropout(0.5)(x)\n",
    "x = tf.keras.layers.Flatten()(x)\n",
    "outputs = tf.keras.layers.Dense(class_number, activation=\"softmax\")(x)\n",
    "model = tf.keras.Model(inputs=inputs,outputs=outputs)\n",
    "model.compile(optimizer='adam',\n",
    "              loss='categorical_crossentropy',\n",
    "              metrics=['accuracy'])\n",
    "model.fit(mnist_train, train_labels, epochs=100,validation_split=0.2,verbose=0)\n",
    "print(\"train finished\")"
   ]
  },
  {
   "cell_type": "code",
   "execution_count": 6,
   "metadata": {},
   "outputs": [
    {
     "name": "stdout",
     "output_type": "stream",
     "text": [
      "1875/1875 - 3s - loss: 0.0095 - accuracy: 0.9976\n",
      "Train accuracy: 0.9976333379745483\n"
     ]
    }
   ],
   "source": [
    "#최종 train accuracy 측정 (validation 데이터 포함)\n",
    "metrics=model.evaluate(mnist_train, train_labels, verbose=2)\n",
    "print(\"Train accuracy:\", metrics[1])"
   ]
  },
  {
   "cell_type": "code",
   "execution_count": 7,
   "metadata": {},
   "outputs": [],
   "source": [
    "#학습한 모델로 mnist test data predict\n",
    "pred=model.predict(mnist_test)"
   ]
  },
  {
   "cell_type": "code",
   "execution_count": 8,
   "metadata": {},
   "outputs": [
    {
     "name": "stdout",
     "output_type": "stream",
     "text": [
      "[[ 977    0    0    0    0    1    1    1    0    0]\n",
      " [   0 1134    0    1    0    0    0    0    0    0]\n",
      " [   1    0 1028    0    0    0    0    3    0    0]\n",
      " [   0    0    1 1006    0    2    0    0    1    0]\n",
      " [   0    0    0    0  972    0    0    0    1    9]\n",
      " [   1    1    0    5    0  884    1    0    0    0]\n",
      " [   6    4    0    0    1    0  946    0    0    1]\n",
      " [   0    4    0    0    1    0    0 1022    0    1]\n",
      " [   1    0    0    1    1    1    0    0  966    4]\n",
      " [   0    2    0    0    4    2    0    2    1  998]]\n"
     ]
    }
   ],
   "source": [
    "import sklearn\n",
    "from sklearn.metrics import confusion_matrix\n",
    "#scikit-learn을 이용해서 confusion matrix 도출\n",
    "print(confusion_matrix(np.argmax(test_labels,axis=-1), np.argmax(pred,axis=-1)))"
   ]
  },
  {
   "cell_type": "code",
   "execution_count": 9,
   "metadata": {},
   "outputs": [],
   "source": [
    "#10개의 숫자 class별로 average precision 값 도출\n",
    "AP_list=[]\n",
    "for i in range(10):\n",
    "    label_oneclass=test_labels[:,i]\n",
    "    pred_oneclass=pred[:,i]\n",
    "    AP= sklearn.metrics.average_precision_score(label_oneclass, pred_oneclass)\n",
    "    AP_list.append(AP)"
   ]
  },
  {
   "cell_type": "code",
   "execution_count": 13,
   "metadata": {},
   "outputs": [
    {
     "name": "stdout",
     "output_type": "stream",
     "text": [
      "mAP: 0.9996540499048555\n"
     ]
    }
   ],
   "source": [
    "#class별로 구한 average precision 값의 평균을 내어 mAP 값 도출\n",
    "print(\"mAP:\",np.mean(AP_list))"
   ]
  }
 ],
 "metadata": {
  "anaconda-cloud": {},
  "kernelspec": {
   "display_name": "Python 3",
   "language": "python",
   "name": "python3"
  },
  "language_info": {
   "codemirror_mode": {
    "name": "ipython",
    "version": 3
   },
   "file_extension": ".py",
   "mimetype": "text/x-python",
   "name": "python",
   "nbconvert_exporter": "python",
   "pygments_lexer": "ipython3",
   "version": "3.6.8"
  }
 },
 "nbformat": 4,
 "nbformat_minor": 4
}
