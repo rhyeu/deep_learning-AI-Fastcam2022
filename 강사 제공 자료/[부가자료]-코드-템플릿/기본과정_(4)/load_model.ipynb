{
 "cells": [
  {
   "cell_type": "markdown",
   "metadata": {},
   "source": [
    "# Model Load"
   ]
  },
  {
   "cell_type": "markdown",
   "metadata": {},
   "source": [
    "### 학습 과정 및 모델 구성 없이, 기존에 학습한 모델(weight 포함) 전체를 로드하여 accuracy를 구해본다"
   ]
  },
  {
   "cell_type": "code",
   "execution_count": 1,
   "metadata": {},
   "outputs": [],
   "source": [
    "##tenssorflow==2.3 환경에서 구현 \n",
    "import tensorflow as tf\n",
    "import numpy as np\n",
    "from tensorflow.keras.datasets import mnist\n",
    "\n",
    "(mnist_train, mnist_train_label), (mnist_test, mnist_test_label) = mnist.load_data() #mnist data road\n",
    "#normalization 적용\n",
    "mnist_train=mnist_train/255\n",
    "mnist_test=mnist_test/255\n",
    "\n",
    "mnist_train=tf.cast(mnist_train, tf.float32)\n",
    "mnist_train=np.expand_dims(mnist_train, -1)\n",
    "mnist_test=tf.cast(mnist_test, tf.float32)\n",
    "mnist_test=np.expand_dims(mnist_test, -1)"
   ]
  },
  {
   "cell_type": "code",
   "execution_count": 2,
   "metadata": {},
   "outputs": [
    {
     "name": "stdout",
     "output_type": "stream",
     "text": [
      "313/313 - 1s - loss: 0.0237 - sparse_categorical_accuracy: 0.9936\n",
      "Test accuracy: 0.9936000108718872\n"
     ]
    }
   ],
   "source": [
    "#기존에 학습한 전체 model 로드\n",
    "from tensorflow.keras.models import load_model\n",
    "model =load_model(\"./mnist_classification_model.h5\")\n",
    "\n",
    "#weight가 포함된 model 로드 후, test accuracy 확인\n",
    "metrics=model.evaluate(mnist_test, mnist_test_label, verbose=2)\n",
    "print(\"Test accuracy:\", metrics[1])"
   ]
  }
 ],
 "metadata": {
  "anaconda-cloud": {},
  "kernelspec": {
   "display_name": "Python 3",
   "language": "python",
   "name": "python3"
  },
  "language_info": {
   "codemirror_mode": {
    "name": "ipython",
    "version": 3
   },
   "file_extension": ".py",
   "mimetype": "text/x-python",
   "name": "python",
   "nbconvert_exporter": "python",
   "pygments_lexer": "ipython3",
   "version": "3.6.8"
  }
 },
 "nbformat": 4,
 "nbformat_minor": 4
}
