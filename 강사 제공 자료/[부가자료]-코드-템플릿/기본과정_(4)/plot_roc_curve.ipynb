{
 "cells": [
  {
   "cell_type": "markdown",
   "metadata": {},
   "source": [
    "# Plot ROC Curve"
   ]
  },
  {
   "cell_type": "markdown",
   "metadata": {},
   "source": [
    "### mnist data를 학습 후, 특정 class를 선택해서 scikit-learn 라이브러리로 ROC Curve Graph를 그려보고 AUC 값도 구해본다."
   ]
  },
  {
   "cell_type": "code",
   "execution_count": 1,
   "metadata": {},
   "outputs": [
    {
     "name": "stdout",
     "output_type": "stream",
     "text": [
      "train finished\n"
     ]
    }
   ],
   "source": [
    "##tenssorflow==2.3 환경에서 구현 \n",
    "import tensorflow as tf\n",
    "import numpy as np\n",
    "from tensorflow.keras.datasets import mnist\n",
    "from tensorflow.keras.utils import to_categorical\n",
    "from tensorflow.keras.optimizers import Adam\n",
    "\n",
    "(mnist_train, mnist_train_label), (mnist_test, mnist_test_label) = mnist.load_data() #mnist data road\n",
    "#normalization 적용\n",
    "mnist_train=mnist_train/255\n",
    "mnist_test=mnist_test/255\n",
    "\n",
    "mnist_train=tf.cast(mnist_train, tf.float32)\n",
    "mnist_train=np.expand_dims(mnist_train, -1)\n",
    "mnist_test=tf.cast(mnist_test, tf.float32)\n",
    "mnist_test=np.expand_dims(mnist_test, -1)\n",
    "\n",
    "#one hot encoding\n",
    "train_labels = to_categorical(mnist_train_label, 10)\n",
    "test_labels = to_categorical(mnist_test_label, 10) \n",
    "\n",
    "class_number = 10 \n",
    "\n",
    "# keras로 모델 구성 후, 학습\n",
    "inputs = tf.keras.Input(shape=(28,28,1))\n",
    "x = tf.keras.layers.Conv2D(kernel_size=(3,3), filters=16, activation='relu',padding=\"same\")(inputs)\n",
    "x = tf.keras.layers.MaxPooling2D((2,2),strides=(1, 1))(x)\n",
    "x = tf.keras.layers.Dropout(0.2)(x)\n",
    "x = tf.keras.layers.Conv2D(kernel_size=(3,3), filters=32, activation='relu',padding=\"same\")(x)\n",
    "x = tf.keras.layers.MaxPooling2D((2,2),strides=(1, 1))(x)\n",
    "x = tf.keras.layers.Dropout(0.2)(x)\n",
    "x = tf.keras.layers.Conv2D(kernel_size=(3,3), filters=64, activation='relu',padding=\"same\")(x)\n",
    "x = tf.keras.layers.MaxPooling2D((2,2),strides=(2, 2))(x)\n",
    "x = tf.keras.layers.Dropout(0.2)(x)\n",
    "x = tf.keras.layers.Conv2D(kernel_size=(3,3), filters=128, activation='relu',padding=\"same\")(x)\n",
    "x = tf.keras.layers.MaxPooling2D((2,2),strides=(2, 2))(x)\n",
    "x = tf.keras.layers.Dropout(0.2)(x)\n",
    "x = tf.keras.layers.Conv2D(kernel_size=(3,3), filters=256, activation='relu',padding=\"same\")(x)\n",
    "x = tf.keras.layers.MaxPooling2D((2,2),strides=(2, 2))(x)\n",
    "x = tf.keras.layers.Dropout(0.2)(x)\n",
    "x = tf.keras.layers.Dense(256, activation='relu')(x)\n",
    "x = tf.keras.layers.Dropout(0.5)(x)\n",
    "x = tf.keras.layers.Flatten()(x)\n",
    "outputs = tf.keras.layers.Dense(class_number, activation=\"softmax\")(x)\n",
    "model = tf.keras.Model(inputs=inputs,outputs=outputs)\n",
    "model.compile(optimizer='adam',\n",
    "              loss='categorical_crossentropy',\n",
    "              metrics=['accuracy'])\n",
    "model.fit(mnist_train, train_labels, epochs=100,validation_split=0.2,verbose=0)\n",
    "print(\"train finished\")"
   ]
  },
  {
   "cell_type": "code",
   "execution_count": 2,
   "metadata": {},
   "outputs": [
    {
     "name": "stdout",
     "output_type": "stream",
     "text": [
      "1875/1875 - 3s - loss: 0.0146 - accuracy: 0.9959\n",
      "Train accuracy: 0.9958999752998352\n"
     ]
    }
   ],
   "source": [
    "#최종 train accuracy 측정 (validation 데이터 포함)\n",
    "metrics=model.evaluate(mnist_train, train_labels, verbose=2)\n",
    "print(\"Train accuracy:\", metrics[1])"
   ]
  },
  {
   "cell_type": "code",
   "execution_count": 4,
   "metadata": {},
   "outputs": [],
   "source": [
    "#학습한 모델로 mnist test data predict\n",
    "pred=model.predict(mnist_test)"
   ]
  },
  {
   "cell_type": "code",
   "execution_count": 5,
   "metadata": {},
   "outputs": [],
   "source": [
    "#one hot encoding된 test data label중에서 숫자 7 class에 해당하는 index 선택\n",
    "label_seven=test_labels[:,7]\n",
    "#모델이 예측한 결과중에서 숫자 7 class에 해당하는 index 선택\n",
    "pred_seven=pred[:,7]"
   ]
  },
  {
   "cell_type": "code",
   "execution_count": 6,
   "metadata": {},
   "outputs": [],
   "source": [
    "import sklearn\n",
    "from sklearn.metrics import accuracy_score, precision_score, precision_recall_curve, recall_score\n",
    "#ROC curve를 그리기 위한 data 도출\n",
    "fpr, tpr, thresholds = sklearn.metrics.roc_curve(label_seven, pred_seven)\n",
    "#AUC 값 도출\n",
    "auc_result=sklearn.metrics.auc(fpr, tpr)"
   ]
  },
  {
   "cell_type": "code",
   "execution_count": 7,
   "metadata": {},
   "outputs": [
    {
     "name": "stdout",
     "output_type": "stream",
     "text": [
      "AUC: 0.9999241045639612\n"
     ]
    },
    {
     "data": {
      "image/png": "[encoded data removed]",
      "text/plain": [
       "<Figure size 432x288 with 1 Axes>"
      ]
     },
     "metadata": {
      "needs_background": "light"
     },
     "output_type": "display_data"
    }
   ],
   "source": [
    "import matplotlib.pyplot as plt\n",
    "print(\"AUC:\",auc_result)\n",
    "#ROC curve plot\n",
    "plt.figure()\n",
    "plt.title(\"ROC Curve\")\n",
    "plt.plot(fpr, tpr,'r', label = 'AUC = %0.2f' %auc_result)\n",
    "plt.xlabel('False Positive')\n",
    "plt.ylabel('True Positive')\n",
    "plt.legend(loc = 'lower right')\n",
    "plt.show()"
   ]
  }
 ],
 "metadata": {
  "anaconda-cloud": {},
  "kernelspec": {
   "display_name": "Python 3",
   "language": "python",
   "name": "python3"
  },
  "language_info": {
   "codemirror_mode": {
    "name": "ipython",
    "version": 3
   },
   "file_extension": ".py",
   "mimetype": "text/x-python",
   "name": "python",
   "nbconvert_exporter": "python",
   "pygments_lexer": "ipython3",
   "version": "3.6.8"
  }
 },
 "nbformat": 4,
 "nbformat_minor": 4
}
