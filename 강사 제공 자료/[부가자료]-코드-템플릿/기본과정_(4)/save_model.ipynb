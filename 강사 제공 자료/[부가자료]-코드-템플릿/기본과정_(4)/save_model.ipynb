{
 "cells": [
  {
   "cell_type": "markdown",
   "metadata": {},
   "source": [
    "# Model Save"
   ]
  },
  {
   "cell_type": "markdown",
   "metadata": {},
   "source": [
    "### mnist 데이터를 학습한 keras 모델(weight 포함)의 전체를 저장해본다."
   ]
  },
  {
   "cell_type": "code",
   "execution_count": 3,
   "metadata": {},
   "outputs": [
    {
     "name": "stdout",
     "output_type": "stream",
     "text": [
      "Model: \"functional_3\"\n",
      "_________________________________________________________________\n",
      "Layer (type)                 Output Shape              Param #   \n",
      "=================================================================\n",
      "input_2 (InputLayer)         [(None, 28, 28, 1)]       0         \n",
      "_________________________________________________________________\n",
      "conv2d_5 (Conv2D)            (None, 28, 28, 16)        160       \n",
      "_________________________________________________________________\n",
      "max_pooling2d_5 (MaxPooling2 (None, 27, 27, 16)        0         \n",
      "_________________________________________________________________\n",
      "dropout_6 (Dropout)          (None, 27, 27, 16)        0         \n",
      "_________________________________________________________________\n",
      "conv2d_6 (Conv2D)            (None, 27, 27, 32)        4640      \n",
      "_________________________________________________________________\n",
      "max_pooling2d_6 (MaxPooling2 (None, 26, 26, 32)        0         \n",
      "_________________________________________________________________\n",
      "dropout_7 (Dropout)          (None, 26, 26, 32)        0         \n",
      "_________________________________________________________________\n",
      "conv2d_7 (Conv2D)            (None, 26, 26, 64)        18496     \n",
      "_________________________________________________________________\n",
      "max_pooling2d_7 (MaxPooling2 (None, 13, 13, 64)        0         \n",
      "_________________________________________________________________\n",
      "dropout_8 (Dropout)          (None, 13, 13, 64)        0         \n",
      "_________________________________________________________________\n",
      "conv2d_8 (Conv2D)            (None, 13, 13, 128)       73856     \n",
      "_________________________________________________________________\n",
      "max_pooling2d_8 (MaxPooling2 (None, 6, 6, 128)         0         \n",
      "_________________________________________________________________\n",
      "dropout_9 (Dropout)          (None, 6, 6, 128)         0         \n",
      "_________________________________________________________________\n",
      "conv2d_9 (Conv2D)            (None, 6, 6, 256)         295168    \n",
      "_________________________________________________________________\n",
      "max_pooling2d_9 (MaxPooling2 (None, 3, 3, 256)         0         \n",
      "_________________________________________________________________\n",
      "dropout_10 (Dropout)         (None, 3, 3, 256)         0         \n",
      "_________________________________________________________________\n",
      "dense_2 (Dense)              (None, 3, 3, 256)         65792     \n",
      "_________________________________________________________________\n",
      "dropout_11 (Dropout)         (None, 3, 3, 256)         0         \n",
      "_________________________________________________________________\n",
      "flatten_1 (Flatten)          (None, 2304)              0         \n",
      "_________________________________________________________________\n",
      "dense_3 (Dense)              (None, 10)                23050     \n",
      "=================================================================\n",
      "Total params: 481,162\n",
      "Trainable params: 481,162\n",
      "Non-trainable params: 0\n",
      "_________________________________________________________________\n",
      "train finished\n"
     ]
    }
   ],
   "source": [
    "##tenssorflow==2.3 환경에서 구현 \n",
    "import tensorflow as tf\n",
    "import numpy as np\n",
    "from tensorflow.keras.datasets import mnist\n",
    "from tensorflow.keras.utils import to_categorical\n",
    "from tensorflow.keras.optimizers import Adam\n",
    "\n",
    "(mnist_train, mnist_train_label), (mnist_test, mnist_test_label) = mnist.load_data() #mnist data road\n",
    "#normalization 적용\n",
    "mnist_train=mnist_train/255\n",
    "mnist_test=mnist_test/255\n",
    "\n",
    "mnist_train=tf.cast(mnist_train, tf.float32)\n",
    "mnist_train=np.expand_dims(mnist_train, -1)\n",
    "mnist_test=tf.cast(mnist_test, tf.float32)\n",
    "mnist_test=np.expand_dims(mnist_test, -1)\n",
    "\n",
    "class_number = 10\n",
    "\n",
    "# keras로 모델 구성 후, 학습\n",
    "inputs = tf.keras.Input(shape=(28,28,1))\n",
    "x = tf.keras.layers.Conv2D(kernel_size=(3,3), filters=16, activation='relu',padding=\"same\")(inputs)\n",
    "x = tf.keras.layers.MaxPooling2D((2,2),strides=(1, 1))(x)\n",
    "x = tf.keras.layers.Dropout(0.2)(x)\n",
    "x = tf.keras.layers.Conv2D(kernel_size=(3,3), filters=32, activation='relu',padding=\"same\")(x)\n",
    "x = tf.keras.layers.MaxPooling2D((2,2),strides=(1, 1))(x)\n",
    "x = tf.keras.layers.Dropout(0.2)(x)\n",
    "x = tf.keras.layers.Conv2D(kernel_size=(3,3), filters=64, activation='relu',padding=\"same\")(x)\n",
    "x = tf.keras.layers.MaxPooling2D((2,2),strides=(2, 2))(x)\n",
    "x = tf.keras.layers.Dropout(0.2)(x)\n",
    "x = tf.keras.layers.Conv2D(kernel_size=(3,3), filters=128, activation='relu',padding=\"same\")(x)\n",
    "x = tf.keras.layers.MaxPooling2D((2,2),strides=(2, 2))(x)\n",
    "x = tf.keras.layers.Dropout(0.2)(x)\n",
    "x = tf.keras.layers.Conv2D(kernel_size=(3,3), filters=256, activation='relu',padding=\"same\")(x)\n",
    "x = tf.keras.layers.MaxPooling2D((2,2),strides=(2, 2))(x)\n",
    "x = tf.keras.layers.Dropout(0.2)(x)\n",
    "x = tf.keras.layers.Dense(256, activation='relu')(x)\n",
    "x = tf.keras.layers.Dropout(0.5)(x)\n",
    "x = tf.keras.layers.Flatten()(x)\n",
    "outputs = tf.keras.layers.Dense(class_number, activation=\"softmax\")(x)\n",
    "model = tf.keras.Model(inputs=inputs,outputs=outputs)\n",
    "model.compile(optimizer='adam', # #one-hot encoding을 안하는 대신에 sparse categorical cross entropy를 loss로 지정\n",
    "              loss='sparse_categorical_crossentropy',\n",
    "              metrics=['sparse_categorical_accuracy'])\n",
    "model.summary()\n",
    "model.fit(mnist_train, mnist_train_label, epochs=100,verbose=0)\n",
    "print(\"train finished\")"
   ]
  },
  {
   "cell_type": "code",
   "execution_count": 4,
   "metadata": {},
   "outputs": [
    {
     "name": "stdout",
     "output_type": "stream",
     "text": [
      "313/313 - 1s - loss: 0.0237 - sparse_categorical_accuracy: 0.9936\n",
      "Test accuracy: 0.9936000108718872\n",
      "save succeed\n"
     ]
    }
   ],
   "source": [
    "#mnist test data predict 후, 학습된 모델 전체를 h5 형태로 저장\n",
    "metrics=model.evaluate(mnist_test, mnist_test_label, verbose=2)\n",
    "print(\"Test accuracy:\", metrics[1])\n",
    "\n",
    "#whole model save\n",
    "model.save(\"./mnist_classification_model.h5\")\n",
    "print(\"save succeed\")"
   ]
  }
 ],
 "metadata": {
  "anaconda-cloud": {},
  "kernelspec": {
   "display_name": "Python 3",
   "language": "python",
   "name": "python3"
  },
  "language_info": {
   "codemirror_mode": {
    "name": "ipython",
    "version": 3
   },
   "file_extension": ".py",
   "mimetype": "text/x-python",
   "name": "python",
   "nbconvert_exporter": "python",
   "pygments_lexer": "ipython3",
   "version": "3.6.8"
  }
 },
 "nbformat": 4,
 "nbformat_minor": 4
}
