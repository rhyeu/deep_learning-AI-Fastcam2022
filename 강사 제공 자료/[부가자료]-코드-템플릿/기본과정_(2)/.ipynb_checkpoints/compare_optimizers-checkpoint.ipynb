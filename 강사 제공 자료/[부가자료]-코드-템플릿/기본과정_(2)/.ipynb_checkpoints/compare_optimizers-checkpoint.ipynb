{
 "cells": [
  {
   "cell_type": "markdown",
   "metadata": {},
   "source": [
    "# Mnist Classification"
   ]
  },
  {
   "cell_type": "markdown",
   "metadata": {},
   "source": [
    "### keras로 mnist 데이터를 학습할 때, optimizer(Stochastic Gradient Descent, RMSprop, Adam)를 변경해가며 학습을 진행해보고 성능도 비교해본다"
   ]
  },
  {
   "cell_type": "code",
   "execution_count": 5,
   "metadata": {},
   "outputs": [],
   "source": [
    "##tenssorflow==2.3 환경에서 구현  \n",
    "import tensorflow as tf\n",
    "import numpy as np\n",
    "from tensorflow.keras.datasets import mnist\n",
    "from tensorflow.keras.utils import to_categorical\n",
    "from tensorflow.keras.optimizers import Adam\n",
    "\n",
    "(mnist_train, mnist_train_label), (mnist_test, mnist_test_label) = mnist.load_data() #mnist data road\n",
    "#normalization 적용\n",
    "mnist_train=mnist_train/255\n",
    "mnist_test=mnist_test/255\n",
    "\n",
    "mnist_train=tf.cast(mnist_train, tf.float32)\n",
    "mnist_test=tf.cast(mnist_test, tf.float32)\n",
    "\n",
    "#one hot encoding\n",
    "train_labels = to_categorical(mnist_train_label, 10)\n",
    "test_labels = to_categorical(mnist_test_label, 10) \n",
    "\n",
    "class_number = 10 "
   ]
  },
  {
   "cell_type": "code",
   "execution_count": 6,
   "metadata": {},
   "outputs": [
    {
     "name": "stdout",
     "output_type": "stream",
     "text": [
      "1875/1875 - 3s - loss: 8.9304e-04 - accuracy: 0.9998\n",
      "Train accuracy: 0.9998000264167786\n",
      "313/313 - 1s - loss: 0.1580 - accuracy: 0.9829\n",
      "Test accuracy: 0.9829000234603882\n"
     ]
    }
   ],
   "source": [
    "# keras functional api로 짧은 mlp 모델을 구성 \n",
    "inputs = tf.keras.Input(shape=(28,28))\n",
    "x=tf.keras.layers.Flatten()(inputs)\n",
    "x = tf.keras.layers.Dense(512, activation=\"relu\")(x)\n",
    "x = tf.keras.layers.Dropout(0.2)(x)\n",
    "x = tf.keras.layers.Dense(256, activation=\"relu\")(x)\n",
    "x = tf.keras.layers.Dense(128, activation=\"relu\")(x)\n",
    "x = tf.keras.layers.Dropout(0.2)(x)\n",
    "x = tf.keras.layers.Dense(64, activation=\"relu\")(x)\n",
    "x = tf.keras.layers.Dense(32, activation=\"relu\")(x)\n",
    "x = tf.keras.layers.Dropout(0.5)(x)\n",
    "x = tf.keras.layers.Dense(16, activation=\"relu\")(x)\n",
    "x = tf.keras.layers.Flatten()(x)\n",
    "outputs = tf.keras.layers.Dense(class_number, activation=\"softmax\")(x)\n",
    "model = tf.keras.Model(inputs=inputs,outputs=outputs)\n",
    "model.compile(optimizer='sgd', # optimizer로 stochestic gradient descent 활용\n",
    "              loss='categorical_crossentropy',\n",
    "              metrics=['accuracy'])\n",
    "model.fit(mnist_train, train_labels,verbose=0, epochs=100)\n",
    "\n",
    "#최종 train accuracy 측정\n",
    "metrics=model.evaluate(mnist_train, train_labels, verbose=2)\n",
    "print(\"Train accuracy:\", metrics[1])\n",
    "\n",
    "#학습한 모델로 mnist test data predict\n",
    "metrics=model.evaluate(mnist_test, test_labels, verbose=2)\n",
    "print(\"Test accuracy:\", metrics[1])"
   ]
  },
  {
   "cell_type": "code",
   "execution_count": 4,
   "metadata": {},
   "outputs": [
    {
     "name": "stdout",
     "output_type": "stream",
     "text": [
      "1875/1875 - 3s - loss: 0.0756 - accuracy: 0.9770\n",
      "Train accuracy: 0.9770166873931885\n",
      "313/313 - 1s - loss: 0.3555 - accuracy: 0.9572\n",
      "Test accuracy: 0.9571999907493591\n"
     ]
    }
   ],
   "source": [
    "inputs = tf.keras.Input(shape=(28,28))\n",
    "x=tf.keras.layers.Flatten()(inputs)\n",
    "x = tf.keras.layers.Dense(512, activation=\"relu\")(x)\n",
    "x = tf.keras.layers.Dropout(0.2)(x)\n",
    "x = tf.keras.layers.Dense(256, activation=\"relu\")(x)\n",
    "x = tf.keras.layers.Dense(128, activation=\"relu\")(x)\n",
    "x = tf.keras.layers.Dropout(0.2)(x)\n",
    "x = tf.keras.layers.Dense(64, activation=\"relu\")(x)\n",
    "x = tf.keras.layers.Dense(32, activation=\"relu\")(x)\n",
    "x = tf.keras.layers.Dropout(0.5)(x)\n",
    "x = tf.keras.layers.Dense(16, activation=\"relu\")(x)\n",
    "x = tf.keras.layers.Flatten()(x)\n",
    "outputs = tf.keras.layers.Dense(class_number, activation=\"softmax\")(x)\n",
    "model = tf.keras.Model(inputs=inputs,outputs=outputs)\n",
    "model.compile(optimizer='RMSprop', # optimizer로 RMSprop 활용\n",
    "              loss='categorical_crossentropy',\n",
    "              metrics=['accuracy'])\n",
    "model.fit(mnist_train, train_labels,verbose=0, epochs=100)\n",
    "\n",
    "#최종 train accuracy 측정\n",
    "metrics=model.evaluate(mnist_train, train_labels, verbose=2)\n",
    "print(\"Train accuracy:\", metrics[1])\n",
    "\n",
    "#학습한 모델로 mnist test data predict\n",
    "metrics=model.evaluate(mnist_test, test_labels, verbose=2)\n",
    "print(\"Test accuracy:\", metrics[1])"
   ]
  },
  {
   "cell_type": "code",
   "execution_count": 2,
   "metadata": {},
   "outputs": [
    {
     "name": "stdout",
     "output_type": "stream",
     "text": [
      "1875/1875 - 3s - loss: 0.0071 - accuracy: 0.9984\n",
      "Train accuracy: 0.9983833432197571\n",
      "313/313 - 1s - loss: 0.1164 - accuracy: 0.9830\n",
      "Test accuracy: 0.9829999804496765\n"
     ]
    }
   ],
   "source": [
    "inputs = tf.keras.Input(shape=(28,28))\n",
    "x=tf.keras.layers.Flatten()(inputs)\n",
    "x = tf.keras.layers.Dense(512, activation=\"relu\")(x)\n",
    "x = tf.keras.layers.Dropout(0.2)(x)\n",
    "x = tf.keras.layers.Dense(256, activation=\"relu\")(x)\n",
    "x = tf.keras.layers.Dense(128, activation=\"relu\")(x)\n",
    "x = tf.keras.layers.Dropout(0.2)(x)\n",
    "x = tf.keras.layers.Dense(64, activation=\"relu\")(x)\n",
    "x = tf.keras.layers.Dense(32, activation=\"relu\")(x)\n",
    "x = tf.keras.layers.Dropout(0.5)(x)\n",
    "x = tf.keras.layers.Dense(16, activation=\"relu\")(x)\n",
    "x = tf.keras.layers.Flatten()(x)\n",
    "outputs = tf.keras.layers.Dense(class_number, activation=\"softmax\")(x)\n",
    "model = tf.keras.Model(inputs=inputs,outputs=outputs)\n",
    "model.compile(optimizer='adam', # optimizer로 adam 활용\n",
    "              loss='categorical_crossentropy',\n",
    "              metrics=['accuracy'])\n",
    "model.fit(mnist_train, train_labels,verbose=0, epochs=100)\n",
    "\n",
    "#최종 train accuracy 측정\n",
    "metrics=model.evaluate(mnist_train, train_labels, verbose=2)\n",
    "print(\"Train accuracy:\", metrics[1])\n",
    "\n",
    "#학습한 모델로 mnist test data predict\n",
    "metrics=model.evaluate(mnist_test, test_labels, verbose=2)\n",
    "print(\"Test accuracy:\", metrics[1])"
   ]
  },
  {
   "cell_type": "code",
   "execution_count": null,
   "metadata": {},
   "outputs": [],
   "source": []
  }
 ],
 "metadata": {
  "anaconda-cloud": {},
  "kernelspec": {
   "display_name": "Python 3",
   "language": "python",
   "name": "python3"
  },
  "language_info": {
   "codemirror_mode": {
    "name": "ipython",
    "version": 3
   },
   "file_extension": ".py",
   "mimetype": "text/x-python",
   "name": "python",
   "nbconvert_exporter": "python",
   "pygments_lexer": "ipython3",
   "version": "3.6.8"
  }
 },
 "nbformat": 4,
 "nbformat_minor": 4
}
