{
 "cells": [
  {
   "cell_type": "markdown",
   "metadata": {},
   "source": [
    "# XOR Classification"
   ]
  },
  {
   "cell_type": "markdown",
   "metadata": {},
   "source": [
    "### Single layer로는 해결이 불가능한 XOR Problem을 tensorflow로 MLP를 구현하여 해결해보고자 한다."
   ]
  },
  {
   "cell_type": "markdown",
   "metadata": {},
   "source": [
    "### 이번에는 perceptron마다 weight, bias를 구하지 않고, matrix 계산으로 layer 단위로 간소화하여 구현해본다."
   ]
  },
  {
   "cell_type": "code",
   "execution_count": 4,
   "metadata": {},
   "outputs": [],
   "source": [
    "##tenssorflow==2.3 환경에서 구현  \n",
    "import tensorflow as tf\n",
    "import numpy as np\n",
    "# Multilayer perceptron에 필요한 weigh와 bias 변수 설정\n",
    "w1 = tf.Variable(tf.random.uniform([2,2]))\n",
    "b1 = tf.Variable(tf.random.uniform([1]))\n",
    "w2 = tf.Variable(tf.random.uniform([2,1]))\n",
    "b2 = tf.Variable(tf.random.uniform([1]))\n",
    "\n",
    "label_x=np.array([[0,0],[1,0],[0,1],[1,1]],dtype=np.float32) #XOR data\n",
    "label_y=np.array([[0],[1],[1],[0]],dtype=np.float32) #XOR label"
   ]
  },
  {
   "cell_type": "code",
   "execution_count": 5,
   "metadata": {},
   "outputs": [
    {
     "name": "stdout",
     "output_type": "stream",
     "text": [
      "0 loss_value: 1.0737975\n",
      "100 loss_value: 0.7018541\n",
      "200 loss_value: 0.69292283\n",
      "300 loss_value: 0.6927073\n",
      "400 loss_value: 0.6921994\n",
      "500 loss_value: 0.68983686\n",
      "600 loss_value: 0.67518675\n",
      "700 loss_value: 0.62685287\n",
      "800 loss_value: 0.5411891\n",
      "900 loss_value: 0.47154126\n",
      "1000 loss_value: 0.42965797\n",
      "1100 loss_value: 0.37153763\n",
      "1200 loss_value: 0.23758501\n",
      "1300 loss_value: 0.15846238\n",
      "1400 loss_value: 0.11192016\n",
      "1500 loss_value: 0.083670035\n",
      "1600 loss_value: 0.06536068\n",
      "1700 loss_value: 0.05276426\n",
      "1800 loss_value: 0.043670334\n",
      "1900 loss_value: 0.036849245\n",
      "2000 loss_value: 0.03157411\n",
      "2100 loss_value: 0.027392257\n",
      "2200 loss_value: 0.024008725\n",
      "2300 loss_value: 0.021224063\n",
      "2400 loss_value: 0.018899176\n",
      "2500 loss_value: 0.016933903\n",
      "2600 loss_value: 0.015255006\n",
      "2700 loss_value: 0.0138073815\n",
      "2800 loss_value: 0.012548915\n",
      "2900 loss_value: 0.011447033\n",
      "3000 loss_value: 0.010476038\n",
      "3100 loss_value: 0.00961547\n",
      "3200 loss_value: 0.00884887\n",
      "3300 loss_value: 0.00816275\n",
      "3400 loss_value: 0.00754603\n",
      "3500 loss_value: 0.0069896597\n",
      "3600 loss_value: 0.006485873\n",
      "3700 loss_value: 0.0060282964\n",
      "3800 loss_value: 0.0056114467\n",
      "3900 loss_value: 0.0052306354\n",
      "4000 loss_value: 0.004881923\n",
      "4100 loss_value: 0.004561858\n",
      "4200 loss_value: 0.0042674146\n",
      "4300 loss_value: 0.003996054\n",
      "4400 loss_value: 0.003745452\n",
      "4500 loss_value: 0.0035136463\n",
      "4600 loss_value: 0.0032989173\n",
      "4700 loss_value: 0.003099624\n",
      "4800 loss_value: 0.0029144853\n",
      "4900 loss_value: 0.002742177\n",
      "5000 loss_value: 0.0025816914\n",
      "5100 loss_value: 0.0024320504\n",
      "5200 loss_value: 0.002292308\n",
      "5300 loss_value: 0.0021617278\n",
      "5400 loss_value: 0.002039499\n",
      "5500 loss_value: 0.0019251263\n",
      "5600 loss_value: 0.0018179491\n",
      "5700 loss_value: 0.001717383\n",
      "5800 loss_value: 0.0016230377\n",
      "5900 loss_value: 0.0015343737\n",
      "6000 loss_value: 0.0014510762\n",
      "6100 loss_value: 0.0013727108\n",
      "6200 loss_value: 0.0012990079\n",
      "6300 loss_value: 0.0012296081\n",
      "6400 loss_value: 0.0011642119\n",
      "6500 loss_value: 0.00110258\n",
      "6600 loss_value: 0.0010444727\n",
      "6700 loss_value: 0.0009896061\n",
      "6800 loss_value: 0.0009378603\n",
      "6900 loss_value: 0.0008889662\n",
      "7000 loss_value: 0.000842819\n",
      "7100 loss_value: 0.0007991796\n",
      "7200 loss_value: 0.0007579583\n",
      "7300 loss_value: 0.0007189757\n",
      "7400 loss_value: 0.0006820973\n",
      "7500 loss_value: 0.00064723345\n",
      "7600 loss_value: 0.00061420497\n",
      "7700 loss_value: 0.000582952\n",
      "7800 loss_value: 0.00055335514\n",
      "7900 loss_value: 0.0005253396\n",
      "8000 loss_value: 0.000498786\n",
      "8100 loss_value: 0.0004736048\n",
      "8200 loss_value: 0.00044978093\n",
      "8300 loss_value: 0.00042715028\n",
      "8400 loss_value: 0.00040572774\n",
      "8500 loss_value: 0.0003854088\n",
      "8600 loss_value: 0.00036614877\n",
      "8700 loss_value: 0.00034787293\n",
      "8800 loss_value: 0.00033053654\n",
      "8900 loss_value: 0.00031405018\n",
      "9000 loss_value: 0.0002984435\n",
      "9100 loss_value: 0.00028362713\n",
      "9200 loss_value: 0.00026957117\n",
      "9300 loss_value: 0.00025617125\n",
      "9400 loss_value: 0.00024353167\n",
      "9500 loss_value: 0.00023147356\n",
      "9600 loss_value: 0.0002200565\n",
      "9700 loss_value: 0.00020916126\n",
      "9800 loss_value: 0.0001988921\n",
      "9900 loss_value: 0.0001890702\n"
     ]
    }
   ],
   "source": [
    "#loss function 정의\n",
    "def loss_function():\n",
    "# layer마다 sigmoid function을 거쳐 값을 도출 한 후, 최종적으로 cross entropy loss를 loss function으로 loss 값도출\n",
    "  layer1= tf.sigmoid(tf.matmul(label_x,w1)+b1)\n",
    "  pred_y = tf.sigmoid(tf.matmul(layer1, w2) + b2)\n",
    "  cost = -tf.reduce_mean(label_y * tf.math.log(pred_y) + (1 - label_y) * tf.math.log(1 - pred_y))#cross entropy loss를 loss function으로 활용\n",
    "  return cost\n",
    "optimizer = tf.optimizers.Adam(learning_rate=0.01) #보편적으로 가장 많이 사용하는 adam optimizer 활용\n",
    "\n",
    "for step in range(10000): #train\n",
    "    cost_val=optimizer.minimize(loss_function, var_list=[w1,w2,b1,b2])\n",
    "    if step % 100 == 0:\n",
    "        print(step,\"loss_value:\", loss_function().numpy())"
   ]
  },
  {
   "cell_type": "code",
   "execution_count": 13,
   "metadata": {},
   "outputs": [
    {
     "name": "stdout",
     "output_type": "stream",
     "text": [
      "accuracy: 1.0\n",
      "tf.Tensor(\n",
      "[[0.]\n",
      " [1.]\n",
      " [1.]\n",
      " [0.]], shape=(4, 1), dtype=float32)\n"
     ]
    }
   ],
   "source": [
    "#최종 train accuracy 측정\n",
    "layer1= tf.sigmoid(tf.matmul(label_x,w1)+b1)\n",
    "pred_y = tf.sigmoid(tf.matmul(layer1, w2) + b2)\n",
    "pred_final = tf.cast(pred_y > 0.5,dtype=tf.float32) #0,1로 구성된 모델이 예측한 xor problem 결과\n",
    "accuracy = tf.reduce_mean(tf.cast(tf.equal(pred_final,label_y),dtype=tf.float32))\n",
    "print(\"accuracy:\", accuracy.numpy())\n",
    "print(pred_final)"
   ]
  },
  {
   "cell_type": "markdown",
   "metadata": {},
   "source": [
    "## plot result"
   ]
  },
  {
   "cell_type": "code",
   "execution_count": 14,
   "metadata": {},
   "outputs": [
    {
     "data": {
      "image/png": "[encoded data removed]",
      "text/plain": [
       "<Figure size 432x288 with 1 Axes>"
      ]
     },
     "metadata": {
      "needs_background": "light"
     },
     "output_type": "display_data"
    },
    {
     "data": {
      "image/png": "[encoded data removed]",
      "text/plain": [
       "<Figure size 432x288 with 1 Axes>"
      ]
     },
     "metadata": {
      "needs_background": "light"
     },
     "output_type": "display_data"
    }
   ],
   "source": [
    "import matplotlib.pyplot as plt\n",
    "pred_final=np.array(pred_final)\n",
    "#label_x,test_x 데이터에서 x축, y축 데이터 분리\n",
    "label_x_x1=label_x[:,0]\n",
    "label_x_y1=label_x[:,1]\n",
    "\n",
    "\n",
    "#시각화를 위해 label y가 0인 데이터와 1인 데이터를 분리한 후, 결과 plot\n",
    "label_y=np.squeeze(label_y)\n",
    "pred_final=np.squeeze(pred_final)\n",
    "\n",
    "label_x_x1_0=label_x_x1[label_y==0] \n",
    "label_x_x1_1=label_x_x1[label_y==1]\n",
    "label_x_y1_0=label_x_y1[label_y==0] \n",
    "label_x_y1_1=label_x_y1[label_y==1]\n",
    "# original data plot\n",
    "plt.title(\"Original data\")\n",
    "plt.xlabel(\"X value\")\n",
    "plt.ylabel(\"Y value\")\n",
    "plt.plot(label_x_x1_0, label_x_y1_0, 'ro', label='y=0 train data')\n",
    "plt.plot(label_x_x1_1, label_x_y1_1,'bo', label='y=1 train data')\n",
    "plt.legend()\n",
    "plt.show()\n",
    "\n",
    "\n",
    "pred_x_x1_0=label_x_x1[pred_final==0] \n",
    "pred_x_x1_1=label_x_x1[pred_final==1]\n",
    "pred_x_y1_0=label_x_y1[pred_final==0] \n",
    "pred_x_y1_1=label_x_y1[pred_final==1]\n",
    "\n",
    "# preidicted value plot\n",
    "plt.title(\"Predicted value\")\n",
    "plt.xlabel(\"X value\")\n",
    "plt.ylabel(\"Y value\")\n",
    "plt.plot(pred_x_x1_0, pred_x_y1_0, 'yo', label='y=0 value')\n",
    "plt.plot(pred_x_x1_1, pred_x_y1_1,'mo', label='y=1 value')\n",
    "plt.legend()\n",
    "plt.show()"
   ]
  },
  {
   "cell_type": "code",
   "execution_count": null,
   "metadata": {},
   "outputs": [],
   "source": []
  }
 ],
 "metadata": {
  "anaconda-cloud": {},
  "kernelspec": {
   "display_name": "Python 3",
   "language": "python",
   "name": "python3"
  },
  "language_info": {
   "codemirror_mode": {
    "name": "ipython",
    "version": 3
   },
   "file_extension": ".py",
   "mimetype": "text/x-python",
   "name": "python",
   "nbconvert_exporter": "python",
   "pygments_lexer": "ipython3",
   "version": "3.6.8"
  }
 },
 "nbformat": 4,
 "nbformat_minor": 4
}
