{
 "cells": [
  {
   "cell_type": "code",
   "execution_count": 1,
   "metadata": {},
   "outputs": [],
   "source": [
    "import pandas as pd\n",
    "from modify_csv.load import load_dataframe\n",
    "from modify_csv.build import build_dataframe\n",
    "\n",
    "def main():\n",
    "    #mura data path\n",
    "    data_path = \"./MURA-v1.1\"\n",
    "    #set train csv path\n",
    "    final_train_path=\"./bone_xray_train.csv\"\n",
    "    #set valid csv path\n",
    "    final_valid_path=\"./bone_xray_valid.csv\"\n",
    "    \n",
    "    train_with_label, valid_with_label, train, valid = load_dataframe()\n",
    "    df_train = build_dataframe(train_with_label, train, data_path)\n",
    "    df_valid = build_dataframe(valid_with_label, valid, data_path)\n",
    "    df_train.to_csv(final_train_path)\n",
    "    df_valid.to_csv(final_valid_path)\n",
    "    print(\"saved csv file!\")\n",
    "\n",
    "if __name__ == \"__main__\":\n",
    "    main()    "
   ]
  }
 ],
 "metadata": {
  "kernelspec": {
   "display_name": "Python 3",
   "language": "python",
   "name": "python3"
  },
  "language_info": {
   "codemirror_mode": {
    "name": "ipython",
    "version": 3
   },
   "file_extension": ".py",
   "mimetype": "text/x-python",
   "name": "python",
   "nbconvert_exporter": "python",
   "pygments_lexer": "ipython3",
   "version": "3.6.8"
  }
 },
 "nbformat": 4,
 "nbformat_minor": 4
}
