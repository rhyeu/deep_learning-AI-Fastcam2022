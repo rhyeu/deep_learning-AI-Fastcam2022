{
 "cells": [
  {
   "cell_type": "markdown",
   "metadata": {},
   "source": [
    "# Weather Forecasting"
   ]
  },
  {
   "cell_type": "markdown",
   "metadata": {},
   "source": [
    "### 기온 정보가 들어있는 시계열 데이터를 LSTM으로 학습한 후, 10시간 후의 기온을 예측해본다."
   ]
  },
  {
   "cell_type": "code",
   "execution_count": 1,
   "metadata": {
    "collapsed": false,
    "jupyter": {
     "outputs_hidden": false
    }
   },
   "outputs": [],
   "source": [
    "import tensorflow as tf\n",
    "from tensorflow import keras\n",
    "from tensorflow.keras import layers\n",
    "from tensorflow.keras.utils import to_categorical\n",
    "from tensorflow.keras.optimizers import Adam\n",
    "import matplotlib.pyplot as plt\n",
    "import numpy as np\n",
    "import pandas as pd\n",
    "from zipfile import ZipFile\n",
    "import os\n",
    "\n",
    "#기후 정보가 들어있는 데이터 다운로드\n",
    "zip_path = tf.keras.utils.get_file(origin='https://storage.googleapis.com/tensorflow/tf-keras-datasets/jena_climate_2009_2016.csv.zip',\n",
    "fname='jena_climate_2009_2016.csv.zip', extract=True)\n",
    "csv_path, _ = os.path.splitext(zip_path)"
   ]
  },
  {
   "cell_type": "code",
   "execution_count": 2,
   "metadata": {},
   "outputs": [],
   "source": [
    "#데이터에서 온도 정보만을 추출한 후, 30만개 데이터를 학습데이터로 사용\n",
    "df = pd.read_csv(csv_path)\n",
    "temperature_data=np.array(df[\"T (degC)\"])\n",
    "train_data=temperature_data[:300000]\n",
    "train_mean,train_std =np.mean(train_data),np.std(train_data)\n",
    "train_data=(train_data-train_mean)/train_std"
   ]
  },
  {
   "cell_type": "code",
   "execution_count": 3,
   "metadata": {},
   "outputs": [],
   "source": [
    "sequencelength=200 #학습 데이터를 200개 단위로 잘라서 학습\n",
    "predict_step=60 #10시간 후가 60개 데이터 포인트이므로, 라벨 데이터로 x1 데이터의 60 step 이후의 데이터를 y1데이터로 설정\n",
    "datax=[]\n",
    "datay=[]\n",
    "for i in range(0,len(train_data)-sequencelength-predict_step):\n",
    "    x1=train_data[i:i+sequencelength]\n",
    "    y1=train_data[i+sequencelength+predict_step]\n",
    "    datax.append(x1)\n",
    "    datay.append(y1)\n",
    "datax=np.expand_dims(np.array(datax),-1)\n",
    "datay=np.expand_dims(np.array(datay),-1)"
   ]
  },
  {
   "cell_type": "code",
   "execution_count": 5,
   "metadata": {},
   "outputs": [
    {
     "name": "stdout",
     "output_type": "stream",
     "text": [
      "Epoch 1/100\n",
      "293/293 [==============================] - 7s 23ms/step - loss: 0.2626 - mean_squared_error: 0.2626\n",
      "Epoch 2/100\n",
      "293/293 [==============================] - 7s 24ms/step - loss: 0.1252 - mean_squared_error: 0.1252\n",
      "Epoch 3/100\n",
      "293/293 [==============================] - 7s 23ms/step - loss: 0.1144 - mean_squared_error: 0.1144\n",
      "Epoch 4/100\n",
      "293/293 [==============================] - 7s 23ms/step - loss: 0.1111 - mean_squared_error: 0.1111\n",
      "Epoch 5/100\n",
      "293/293 [==============================] - 7s 23ms/step - loss: 0.1099 - mean_squared_error: 0.1099\n",
      "Epoch 6/100\n",
      "293/293 [==============================] - 7s 24ms/step - loss: 0.1083 - mean_squared_error: 0.1083\n",
      "Epoch 7/100\n",
      "293/293 [==============================] - 7s 23ms/step - loss: 0.1068 - mean_squared_error: 0.1068\n",
      "Epoch 8/100\n",
      "293/293 [==============================] - 7s 23ms/step - loss: 0.1062 - mean_squared_error: 0.1062\n",
      "Epoch 9/100\n",
      "293/293 [==============================] - 7s 23ms/step - loss: 0.1049 - mean_squared_error: 0.1049\n",
      "Epoch 10/100\n",
      "293/293 [==============================] - 7s 23ms/step - loss: 0.1025 - mean_squared_error: 0.1025\n",
      "Epoch 11/100\n",
      "293/293 [==============================] - 7s 23ms/step - loss: 0.1027 - mean_squared_error: 0.1027\n",
      "Epoch 12/100\n",
      "293/293 [==============================] - 7s 23ms/step - loss: 0.1006 - mean_squared_error: 0.1006\n",
      "Epoch 13/100\n",
      "293/293 [==============================] - 7s 23ms/step - loss: 0.0996 - mean_squared_error: 0.0996\n",
      "Epoch 14/100\n",
      "293/293 [==============================] - 7s 23ms/step - loss: 0.0984 - mean_squared_error: 0.0984\n",
      "Epoch 15/100\n",
      "293/293 [==============================] - 7s 23ms/step - loss: 0.0972 - mean_squared_error: 0.0972\n",
      "Epoch 16/100\n",
      "293/293 [==============================] - 7s 23ms/step - loss: 0.0960 - mean_squared_error: 0.0960\n",
      "Epoch 17/100\n",
      "293/293 [==============================] - 7s 23ms/step - loss: 0.0948 - mean_squared_error: 0.0948\n",
      "Epoch 18/100\n",
      "293/293 [==============================] - 7s 24ms/step - loss: 0.0941 - mean_squared_error: 0.0941\n",
      "Epoch 19/100\n",
      "293/293 [==============================] - 7s 23ms/step - loss: 0.0921 - mean_squared_error: 0.0921\n",
      "Epoch 20/100\n",
      "293/293 [==============================] - 7s 23ms/step - loss: 0.0905 - mean_squared_error: 0.0905\n",
      "Epoch 21/100\n",
      "293/293 [==============================] - 7s 23ms/step - loss: 0.0885 - mean_squared_error: 0.0885\n",
      "Epoch 22/100\n",
      "293/293 [==============================] - 7s 23ms/step - loss: 0.0872 - mean_squared_error: 0.0872\n",
      "Epoch 23/100\n",
      "293/293 [==============================] - 7s 23ms/step - loss: 0.0855 - mean_squared_error: 0.0855\n",
      "Epoch 24/100\n",
      "293/293 [==============================] - 7s 23ms/step - loss: 0.0839 - mean_squared_error: 0.0839\n",
      "Epoch 25/100\n",
      "293/293 [==============================] - 7s 23ms/step - loss: 0.0824 - mean_squared_error: 0.0824\n",
      "Epoch 26/100\n",
      "293/293 [==============================] - 7s 23ms/step - loss: 0.0800 - mean_squared_error: 0.0800\n",
      "Epoch 27/100\n",
      "293/293 [==============================] - 7s 23ms/step - loss: 0.0783 - mean_squared_error: 0.0783\n",
      "Epoch 28/100\n",
      "293/293 [==============================] - 7s 23ms/step - loss: 0.0765 - mean_squared_error: 0.0765\n",
      "Epoch 29/100\n",
      "293/293 [==============================] - 7s 23ms/step - loss: 0.0748 - mean_squared_error: 0.0748\n",
      "Epoch 30/100\n",
      "293/293 [==============================] - 7s 23ms/step - loss: 0.0731 - mean_squared_error: 0.0731\n",
      "Epoch 31/100\n",
      "293/293 [==============================] - 7s 23ms/step - loss: 0.0712 - mean_squared_error: 0.0712\n",
      "Epoch 32/100\n",
      "293/293 [==============================] - 7s 23ms/step - loss: 0.0694 - mean_squared_error: 0.0694\n",
      "Epoch 33/100\n",
      "293/293 [==============================] - 7s 23ms/step - loss: 0.0678 - mean_squared_error: 0.0678\n",
      "Epoch 34/100\n",
      "293/293 [==============================] - 7s 23ms/step - loss: 0.0651 - mean_squared_error: 0.0651\n",
      "Epoch 35/100\n",
      "293/293 [==============================] - 7s 23ms/step - loss: 0.0640 - mean_squared_error: 0.0640\n",
      "Epoch 36/100\n",
      "293/293 [==============================] - 7s 23ms/step - loss: 0.0617 - mean_squared_error: 0.0617\n",
      "Epoch 37/100\n",
      "293/293 [==============================] - 7s 23ms/step - loss: 0.0593 - mean_squared_error: 0.0593\n",
      "Epoch 38/100\n",
      "293/293 [==============================] - 7s 23ms/step - loss: 0.0574 - mean_squared_error: 0.0574\n",
      "Epoch 39/100\n",
      "293/293 [==============================] - 7s 23ms/step - loss: 0.0560 - mean_squared_error: 0.0560\n",
      "Epoch 40/100\n",
      "293/293 [==============================] - 7s 24ms/step - loss: 0.0534 - mean_squared_error: 0.0534\n",
      "Epoch 41/100\n",
      "293/293 [==============================] - 7s 23ms/step - loss: 0.0519 - mean_squared_error: 0.0519\n",
      "Epoch 42/100\n",
      "293/293 [==============================] - 7s 23ms/step - loss: 0.0490 - mean_squared_error: 0.0490\n",
      "Epoch 43/100\n",
      "293/293 [==============================] - 7s 23ms/step - loss: 0.0489 - mean_squared_error: 0.0489\n",
      "Epoch 44/100\n",
      "293/293 [==============================] - 7s 23ms/step - loss: 0.0475 - mean_squared_error: 0.0475\n",
      "Epoch 45/100\n",
      "293/293 [==============================] - 7s 23ms/step - loss: 0.0447 - mean_squared_error: 0.0447\n",
      "Epoch 46/100\n",
      "293/293 [==============================] - 7s 23ms/step - loss: 0.0434 - mean_squared_error: 0.0434\n",
      "Epoch 47/100\n",
      "293/293 [==============================] - 7s 23ms/step - loss: 0.0420 - mean_squared_error: 0.0420\n",
      "Epoch 48/100\n",
      "293/293 [==============================] - 7s 23ms/step - loss: 0.0414 - mean_squared_error: 0.0414\n",
      "Epoch 49/100\n",
      "293/293 [==============================] - 7s 23ms/step - loss: 0.0396 - mean_squared_error: 0.0396\n",
      "Epoch 50/100\n",
      "293/293 [==============================] - 7s 23ms/step - loss: 0.0383 - mean_squared_error: 0.0383\n",
      "Epoch 51/100\n",
      "293/293 [==============================] - 7s 23ms/step - loss: 0.0368 - mean_squared_error: 0.0368\n",
      "Epoch 52/100\n",
      "293/293 [==============================] - 7s 23ms/step - loss: 0.0361 - mean_squared_error: 0.0361\n",
      "Epoch 53/100\n",
      "293/293 [==============================] - 7s 23ms/step - loss: 0.0358 - mean_squared_error: 0.0358\n",
      "Epoch 54/100\n",
      "293/293 [==============================] - 7s 23ms/step - loss: 0.0340 - mean_squared_error: 0.0340\n",
      "Epoch 55/100\n",
      "293/293 [==============================] - 7s 23ms/step - loss: 0.0324 - mean_squared_error: 0.0324\n",
      "Epoch 56/100\n",
      "293/293 [==============================] - 7s 23ms/step - loss: 0.0322 - mean_squared_error: 0.0322\n",
      "Epoch 57/100\n",
      "293/293 [==============================] - 7s 23ms/step - loss: 0.0302 - mean_squared_error: 0.0302\n",
      "Epoch 58/100\n",
      "293/293 [==============================] - 7s 23ms/step - loss: 0.0307 - mean_squared_error: 0.0307\n",
      "Epoch 59/100\n",
      "293/293 [==============================] - 7s 23ms/step - loss: 0.0288 - mean_squared_error: 0.0288\n",
      "Epoch 60/100\n",
      "293/293 [==============================] - 7s 23ms/step - loss: 0.0333 - mean_squared_error: 0.0333\n",
      "Epoch 61/100\n",
      "293/293 [==============================] - 7s 23ms/step - loss: 0.0277 - mean_squared_error: 0.0277\n",
      "Epoch 62/100\n",
      "293/293 [==============================] - 7s 23ms/step - loss: 0.0269 - mean_squared_error: 0.0269\n",
      "Epoch 63/100\n",
      "293/293 [==============================] - 7s 23ms/step - loss: 0.0261 - mean_squared_error: 0.0261\n",
      "Epoch 64/100\n",
      "293/293 [==============================] - 7s 23ms/step - loss: 0.0255 - mean_squared_error: 0.0255\n",
      "Epoch 65/100\n",
      "293/293 [==============================] - 7s 23ms/step - loss: 0.0243 - mean_squared_error: 0.0243\n",
      "Epoch 66/100\n",
      "293/293 [==============================] - 7s 23ms/step - loss: 0.0243 - mean_squared_error: 0.0243\n",
      "Epoch 67/100\n",
      "293/293 [==============================] - 7s 23ms/step - loss: 0.0233 - mean_squared_error: 0.0233\n",
      "Epoch 68/100\n",
      "293/293 [==============================] - 7s 23ms/step - loss: 0.0229 - mean_squared_error: 0.0229\n",
      "Epoch 69/100\n",
      "293/293 [==============================] - 7s 23ms/step - loss: 0.0226 - mean_squared_error: 0.0226\n",
      "Epoch 70/100\n",
      "293/293 [==============================] - 7s 23ms/step - loss: 0.0220 - mean_squared_error: 0.0220\n",
      "Epoch 71/100\n",
      "293/293 [==============================] - 7s 23ms/step - loss: 0.0212 - mean_squared_error: 0.0212\n",
      "Epoch 72/100\n",
      "293/293 [==============================] - 7s 23ms/step - loss: 0.0212 - mean_squared_error: 0.0212\n",
      "Epoch 73/100\n",
      "293/293 [==============================] - 7s 23ms/step - loss: 0.0202 - mean_squared_error: 0.0202\n",
      "Epoch 74/100\n",
      "293/293 [==============================] - 7s 23ms/step - loss: 0.0206 - mean_squared_error: 0.0206\n",
      "Epoch 75/100\n",
      "293/293 [==============================] - 7s 23ms/step - loss: 0.0198 - mean_squared_error: 0.0198\n",
      "Epoch 76/100\n",
      "293/293 [==============================] - 7s 23ms/step - loss: 0.0190 - mean_squared_error: 0.0190\n",
      "Epoch 77/100\n",
      "293/293 [==============================] - 7s 23ms/step - loss: 0.0208 - mean_squared_error: 0.0208\n",
      "Epoch 78/100\n",
      "293/293 [==============================] - 7s 23ms/step - loss: 0.0198 - mean_squared_error: 0.0198\n",
      "Epoch 79/100\n",
      "293/293 [==============================] - 7s 23ms/step - loss: 0.0191 - mean_squared_error: 0.0191\n",
      "Epoch 80/100\n",
      "293/293 [==============================] - 7s 23ms/step - loss: 0.0170 - mean_squared_error: 0.0170\n",
      "Epoch 81/100\n",
      "293/293 [==============================] - 7s 23ms/step - loss: 0.0175 - mean_squared_error: 0.0175\n",
      "Epoch 82/100\n",
      "293/293 [==============================] - 7s 23ms/step - loss: 0.0170 - mean_squared_error: 0.0170\n",
      "Epoch 83/100\n",
      "293/293 [==============================] - 7s 23ms/step - loss: 0.0168 - mean_squared_error: 0.0168\n",
      "Epoch 84/100\n",
      "293/293 [==============================] - 7s 23ms/step - loss: 0.0167 - mean_squared_error: 0.0167\n",
      "Epoch 85/100\n",
      "293/293 [==============================] - 7s 23ms/step - loss: 0.0156 - mean_squared_error: 0.0156\n",
      "Epoch 86/100\n",
      "293/293 [==============================] - 7s 23ms/step - loss: 0.0167 - mean_squared_error: 0.0167\n",
      "Epoch 87/100\n",
      "293/293 [==============================] - 7s 23ms/step - loss: 0.0155 - mean_squared_error: 0.0155\n",
      "Epoch 88/100\n",
      "293/293 [==============================] - 7s 23ms/step - loss: 0.0154 - mean_squared_error: 0.0154\n",
      "Epoch 89/100\n",
      "293/293 [==============================] - 7s 23ms/step - loss: 0.0151 - mean_squared_error: 0.0151\n",
      "Epoch 90/100\n",
      "293/293 [==============================] - 7s 23ms/step - loss: 0.0148 - mean_squared_error: 0.0148\n",
      "Epoch 91/100\n",
      "293/293 [==============================] - 7s 23ms/step - loss: 0.0150 - mean_squared_error: 0.0150\n",
      "Epoch 92/100\n",
      "293/293 [==============================] - 7s 23ms/step - loss: 0.0141 - mean_squared_error: 0.0141\n",
      "Epoch 93/100\n",
      "293/293 [==============================] - 7s 23ms/step - loss: 0.0140 - mean_squared_error: 0.0140\n",
      "Epoch 94/100\n",
      "293/293 [==============================] - 7s 23ms/step - loss: 0.0146 - mean_squared_error: 0.0146\n",
      "Epoch 95/100\n",
      "293/293 [==============================] - 7s 23ms/step - loss: 0.0142 - mean_squared_error: 0.0142\n",
      "Epoch 96/100\n",
      "293/293 [==============================] - 7s 23ms/step - loss: 0.0135 - mean_squared_error: 0.0135\n",
      "Epoch 97/100\n",
      "293/293 [==============================] - 7s 23ms/step - loss: 0.0128 - mean_squared_error: 0.0128\n",
      "Epoch 98/100\n",
      "293/293 [==============================] - 7s 23ms/step - loss: 0.0142 - mean_squared_error: 0.0142\n",
      "Epoch 99/100\n",
      "293/293 [==============================] - 7s 23ms/step - loss: 0.0129 - mean_squared_error: 0.0129\n",
      "Epoch 100/100\n",
      "293/293 [==============================] - 7s 23ms/step - loss: 0.0126 - mean_squared_error: 0.0126\n"
     ]
    },
    {
     "data": {
      "text/plain": [
       "<tensorflow.python.keras.callbacks.History at 0x7f8ce0c5d208>"
      ]
     },
     "execution_count": 5,
     "metadata": {},
     "output_type": "execute_result"
    }
   ],
   "source": [
    "feature_number=1 #feature:T (degC)\n",
    "batch_size=1024 #batch size 설정\n",
    "inputs = keras.Input(shape=(sequencelength,feature_number))\n",
    "x = layers.LSTM(units=100)(inputs) #LSTM layer로 학습 모델을 구성\n",
    "outputs = keras.layers.Dense(1)(x)\n",
    "model = keras.Model(inputs=inputs, outputs=outputs)\n",
    "model.compile(optimizer=Adam(learning_rate=0.001), loss='mse', metrics=[\"mean_squared_error\"])\n",
    "\n",
    "# loss 및 metric으로 mse 설정\n",
    "model.fit(datax,datay,batch_size=batch_size, epochs=100)"
   ]
  },
  {
   "cell_type": "code",
   "execution_count": 39,
   "metadata": {},
   "outputs": [
    {
     "name": "stdout",
     "output_type": "stream",
     "text": [
      "9367/9367 - 59s - loss: 0.0122 - mean_squared_error: 0.0122\n",
      "Train Data MSE: 0.012229206040501595\n"
     ]
    }
   ],
   "source": [
    "#최종 train data mse 측정\n",
    "metrics=model.evaluate(datax, datay, verbose=2)\n",
    "print(\"Train Data MSE:\", metrics[1])"
   ]
  },
  {
   "cell_type": "markdown",
   "metadata": {},
   "source": [
    "## predict"
   ]
  },
  {
   "cell_type": "code",
   "execution_count": 6,
   "metadata": {},
   "outputs": [],
   "source": [
    "#학습 데이터 30만장 이후의 6만장을 테스트 데이터로 설정\n",
    "test_data=temperature_data[300000:360000]\n",
    "test_mean,test_std =np.mean(test_data),np.std(test_data)\n",
    "test_data=(test_data-test_mean)/test_std"
   ]
  },
  {
   "cell_type": "code",
   "execution_count": 41,
   "metadata": {},
   "outputs": [],
   "source": [
    "sequencelength=200 \n",
    "predict_step=60\n",
    "test_datax=[]\n",
    "test_datay=[]\n",
    "for i in range(0,len(test_data)-sequencelength-predict_step):\n",
    "    x1=test_data[i:i+sequencelength]\n",
    "    y1=test_data[i+sequencelength+predict_step]\n",
    "    test_datax.append(x1)\n",
    "    test_datay.append(y1)\n",
    "test_datax=np.expand_dims(np.array(test_datax),-1)\n",
    "test_datay=np.expand_dims(np.array(test_datay),-1)"
   ]
  },
  {
   "cell_type": "code",
   "execution_count": 42,
   "metadata": {},
   "outputs": [
    {
     "name": "stdout",
     "output_type": "stream",
     "text": [
      "1867/1867 - 11s - loss: 0.2050 - mean_squared_error: 0.2050\n",
      "Test Data MSE: 0.20501577854156494\n"
     ]
    }
   ],
   "source": [
    "#최종 test data mse 측정\n",
    "metrics=model.evaluate(test_datax, test_datay, verbose=2)\n",
    "print(\"Test Data MSE:\", metrics[1])"
   ]
  },
  {
   "cell_type": "markdown",
   "metadata": {},
   "source": [
    "## plot result"
   ]
  },
  {
   "cell_type": "code",
   "execution_count": 70,
   "metadata": {},
   "outputs": [],
   "source": [
    "#sample test data\n",
    "sample_testx=np.array([test_datax[0],test_datax[10000],test_datax[20000]])\n",
    "sample_testy=np.array([test_datay[0],test_datay[10000],test_datay[20000]])\n",
    "\n",
    "#predcit sample data\n",
    "predict_results=model.predict(sample_testx)"
   ]
  },
  {
   "cell_type": "code",
   "execution_count": 71,
   "metadata": {},
   "outputs": [
    {
     "data": {
      "image/png": "[encoded data removed]",
      "text/plain": [
       "<Figure size 432x288 with 1 Axes>"
      ]
     },
     "metadata": {
      "needs_background": "light"
     },
     "output_type": "display_data"
    },
    {
     "data": {
      "image/png": "[encoded data removed]",
      "text/plain": [
       "<Figure size 432x288 with 1 Axes>"
      ]
     },
     "metadata": {
      "needs_background": "light"
     },
     "output_type": "display_data"
    },
    {
     "data": {
      "image/png": "[encoded data removed]",
      "text/plain": [
       "<Figure size 432x288 with 1 Axes>"
      ]
     },
     "metadata": {
      "needs_background": "light"
     },
     "output_type": "display_data"
    }
   ],
   "source": [
    "#test data and predicted value plot\n",
    "step=np.array(range(0,261))\n",
    "plt.title(\"Test Data Result 1\")\n",
    "plt.xlabel(\"Step\")\n",
    "plt.ylabel(\"Y value\")\n",
    "plt.plot(np.array(range(0,200)), sample_testx[0], 'b', label='test data input')\n",
    "plt.plot([260], sample_testy[0], 'ro', label='label data')\n",
    "plt.plot([260], predict_results[0],'go', label='predicted value')\n",
    "plt.legend()\n",
    "plt.show()\n",
    "plt.title(\"Test Data Result 2\")\n",
    "plt.xlabel(\"Step\")\n",
    "plt.ylabel(\"Y value\")\n",
    "plt.plot(np.array(range(0,200)), sample_testx[1], 'b', label='test data input')\n",
    "plt.plot([260], sample_testy[1], 'ro', label='label data')\n",
    "plt.plot([260], predict_results[1],'go', label='predicted value')\n",
    "plt.legend()\n",
    "plt.show()\n",
    "plt.title(\"Test Data Result 3\")\n",
    "plt.xlabel(\"Step\")\n",
    "plt.ylabel(\"Y value\")\n",
    "plt.plot(np.array(range(0,200)), sample_testx[2], 'b', label='test data input')\n",
    "plt.plot([260], sample_testy[2], 'ro', label='label data')\n",
    "plt.plot([260], predict_results[2],'go', label='predicted value')\n",
    "plt.legend()\n",
    "plt.show()"
   ]
  }
 ],
 "metadata": {
  "anaconda-cloud": {},
  "kernelspec": {
   "display_name": "Python 3",
   "language": "python",
   "name": "python3"
  },
  "language_info": {
   "codemirror_mode": {
    "name": "ipython",
    "version": 3
   },
   "file_extension": ".py",
   "mimetype": "text/x-python",
   "name": "python",
   "nbconvert_exporter": "python",
   "pygments_lexer": "ipython3",
   "version": "3.6.8"
  }
 },
 "nbformat": 4,
 "nbformat_minor": 4
}
