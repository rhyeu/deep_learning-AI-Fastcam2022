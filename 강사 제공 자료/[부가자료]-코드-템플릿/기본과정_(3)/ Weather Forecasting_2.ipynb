{
 "cells": [
  {
   "cell_type": "markdown",
   "metadata": {},
   "source": [
    "# Weather Forecasting"
   ]
  },
  {
   "cell_type": "markdown",
   "metadata": {},
   "source": [
    "### 기온 정보가 들어있는 시계열 데이터를 LSTM으로 학습한 후, 10시간 후의 기온을 예측할때 전처리 및 데이터 구성을 위해 keras 내장 함수를 활용해본다"
   ]
  },
  {
   "cell_type": "code",
   "execution_count": 1,
   "metadata": {
    "collapsed": false,
    "jupyter": {
     "outputs_hidden": false
    }
   },
   "outputs": [],
   "source": [
    "import tensorflow as tf\n",
    "from tensorflow import keras\n",
    "from tensorflow.keras import layers\n",
    "from tensorflow.keras.utils import to_categorical\n",
    "from tensorflow.keras.optimizers import Adam\n",
    "import matplotlib.pyplot as plt\n",
    "import numpy as np\n",
    "import pandas as pd\n",
    "from zipfile import ZipFile\n",
    "import os\n",
    "\n",
    "#기후 정보가 들어있는 데이터 다운로드\n",
    "zip_path = tf.keras.utils.get_file(origin='https://storage.googleapis.com/tensorflow/tf-keras-datasets/jena_climate_2009_2016.csv.zip',\n",
    "fname='jena_climate_2009_2016.csv.zip', extract=True)\n",
    "csv_path, _ = os.path.splitext(zip_path)"
   ]
  },
  {
   "cell_type": "code",
   "execution_count": 2,
   "metadata": {},
   "outputs": [],
   "source": [
    "#데이터에서 온도 정보만을 추출한 후, 30만개 데이터를 학습데이터로 사용\n",
    "df = pd.read_csv(csv_path)\n",
    "temperature_data=np.array(df[\"T (degC)\"])\n",
    "train_data=temperature_data[:300000]\n",
    "train_mean,train_std =np.mean(train_data),np.std(train_data)\n",
    "train_data=(train_data-train_mean)/train_std\n",
    "train_data=np.expand_dims(np.array(train_data),-1)"
   ]
  },
  {
   "cell_type": "code",
   "execution_count": 3,
   "metadata": {},
   "outputs": [],
   "source": [
    "sequencelength=200 #학습 데이터를 200개 단위로 잘라서 학습\n",
    "predict_step=60 #10시간 후가 60개 데이터 포인트이므로, 라벨 데이터로 x1 데이터의 60 step 이후의 데이터를 y1데이터로 설정\n",
    "batch_size=1024 #batch size 설정"
   ]
  },
  {
   "cell_type": "code",
   "execution_count": 4,
   "metadata": {},
   "outputs": [],
   "source": [
    "#데이터를 sequence length 길이로 직접 자르는 작업없이 keras.preprocessing.timeseries_dataset_from_array를 이용하여 train dataset 구성\n",
    "datax=train_data[:-(sequencelength+predict_step)]\n",
    "datay=train_data[sequencelength+predict_step:]\n",
    "train_dataset = keras.preprocessing.timeseries_dataset_from_array(datax, datay, sequence_length=sequencelength, batch_size=batch_size)"
   ]
  },
  {
   "cell_type": "code",
   "execution_count": 5,
   "metadata": {},
   "outputs": [
    {
     "name": "stdout",
     "output_type": "stream",
     "text": [
      "Epoch 1/100\n",
      "293/293 [==============================] - 16s 55ms/step - loss: 0.4368 - mean_squared_error: 0.4368\n",
      "Epoch 2/100\n",
      "293/293 [==============================] - 17s 58ms/step - loss: 0.3926 - mean_squared_error: 0.3926\n",
      "Epoch 3/100\n",
      "293/293 [==============================] - 17s 58ms/step - loss: 0.3830 - mean_squared_error: 0.3830\n",
      "Epoch 4/100\n",
      "293/293 [==============================] - 16s 56ms/step - loss: 0.3782 - mean_squared_error: 0.3782\n",
      "Epoch 5/100\n",
      "293/293 [==============================] - 17s 59ms/step - loss: 0.3775 - mean_squared_error: 0.3775\n",
      "Epoch 6/100\n",
      "293/293 [==============================] - 17s 58ms/step - loss: 0.3724 - mean_squared_error: 0.3724\n",
      "Epoch 7/100\n",
      "293/293 [==============================] - 16s 54ms/step - loss: 0.3721 - mean_squared_error: 0.3721\n",
      "Epoch 8/100\n",
      "293/293 [==============================] - 16s 54ms/step - loss: 0.3659 - mean_squared_error: 0.3659\n",
      "Epoch 9/100\n",
      "293/293 [==============================] - 16s 55ms/step - loss: 0.3463 - mean_squared_error: 0.3463\n",
      "Epoch 10/100\n",
      "293/293 [==============================] - 17s 58ms/step - loss: 0.3309 - mean_squared_error: 0.3309\n",
      "Epoch 11/100\n",
      "293/293 [==============================] - 16s 56ms/step - loss: 0.3200 - mean_squared_error: 0.3200\n",
      "Epoch 12/100\n",
      "293/293 [==============================] - 16s 54ms/step - loss: 0.3258 - mean_squared_error: 0.3258\n",
      "Epoch 13/100\n",
      "293/293 [==============================] - 16s 55ms/step - loss: 0.3323 - mean_squared_error: 0.3323\n",
      "Epoch 14/100\n",
      "293/293 [==============================] - 17s 57ms/step - loss: 0.3271 - mean_squared_error: 0.3271\n",
      "Epoch 15/100\n",
      "293/293 [==============================] - 16s 56ms/step - loss: 0.3222 - mean_squared_error: 0.3222\n",
      "Epoch 16/100\n",
      "293/293 [==============================] - 17s 57ms/step - loss: 0.3196 - mean_squared_error: 0.3196\n",
      "Epoch 17/100\n",
      "293/293 [==============================] - 17s 59ms/step - loss: 0.3098 - mean_squared_error: 0.3098\n",
      "Epoch 18/100\n",
      "293/293 [==============================] - 17s 59ms/step - loss: 0.3136 - mean_squared_error: 0.3136\n",
      "Epoch 19/100\n",
      "293/293 [==============================] - 16s 55ms/step - loss: 0.2981 - mean_squared_error: 0.2981\n",
      "Epoch 20/100\n",
      "293/293 [==============================] - 17s 57ms/step - loss: 0.3164 - mean_squared_error: 0.3164\n",
      "Epoch 21/100\n",
      "293/293 [==============================] - 16s 56ms/step - loss: 0.3100 - mean_squared_error: 0.3100\n",
      "Epoch 22/100\n",
      "293/293 [==============================] - 17s 58ms/step - loss: 0.2962 - mean_squared_error: 0.2962\n",
      "Epoch 23/100\n",
      "293/293 [==============================] - 16s 56ms/step - loss: 0.3673 - mean_squared_error: 0.3673\n",
      "Epoch 24/100\n",
      "293/293 [==============================] - 17s 58ms/step - loss: 0.3162 - mean_squared_error: 0.3162\n",
      "Epoch 25/100\n",
      "293/293 [==============================] - 16s 54ms/step - loss: 0.3705 - mean_squared_error: 0.3705\n",
      "Epoch 26/100\n",
      "293/293 [==============================] - 16s 56ms/step - loss: 0.3661 - mean_squared_error: 0.3661\n",
      "Epoch 27/100\n",
      "293/293 [==============================] - 17s 59ms/step - loss: 0.3566 - mean_squared_error: 0.3566\n",
      "Epoch 28/100\n",
      "293/293 [==============================] - 17s 58ms/step - loss: 0.3316 - mean_squared_error: 0.3316\n",
      "Epoch 29/100\n",
      "293/293 [==============================] - 17s 58ms/step - loss: 0.3318 - mean_squared_error: 0.3318\n",
      "Epoch 30/100\n",
      "293/293 [==============================] - 17s 59ms/step - loss: 0.3240 - mean_squared_error: 0.3240\n",
      "Epoch 31/100\n",
      "293/293 [==============================] - 18s 60ms/step - loss: 0.3198 - mean_squared_error: 0.3198\n",
      "Epoch 32/100\n",
      "293/293 [==============================] - 17s 59ms/step - loss: 0.3200 - mean_squared_error: 0.3200\n",
      "Epoch 33/100\n",
      "293/293 [==============================] - 17s 58ms/step - loss: 0.3183 - mean_squared_error: 0.3183\n",
      "Epoch 34/100\n",
      "293/293 [==============================] - 17s 58ms/step - loss: 0.3238 - mean_squared_error: 0.3238\n",
      "Epoch 35/100\n",
      "293/293 [==============================] - 17s 58ms/step - loss: 0.3132 - mean_squared_error: 0.3132\n",
      "Epoch 36/100\n",
      "293/293 [==============================] - 16s 56ms/step - loss: 0.2998 - mean_squared_error: 0.2998\n",
      "Epoch 37/100\n",
      "293/293 [==============================] - 17s 56ms/step - loss: 0.3160 - mean_squared_error: 0.3160\n",
      "Epoch 38/100\n",
      "293/293 [==============================] - 16s 56ms/step - loss: 0.3161 - mean_squared_error: 0.3161\n",
      "Epoch 39/100\n",
      "293/293 [==============================] - 17s 57ms/step - loss: 0.3064 - mean_squared_error: 0.3064\n",
      "Epoch 40/100\n",
      "293/293 [==============================] - 16s 55ms/step - loss: 0.2866 - mean_squared_error: 0.2866\n",
      "Epoch 41/100\n",
      "293/293 [==============================] - 17s 58ms/step - loss: 0.2883 - mean_squared_error: 0.2883\n",
      "Epoch 42/100\n",
      "293/293 [==============================] - 17s 57ms/step - loss: 0.3128 - mean_squared_error: 0.3128\n",
      "Epoch 43/100\n",
      "293/293 [==============================] - 16s 53ms/step - loss: 0.2555 - mean_squared_error: 0.2555\n",
      "Epoch 44/100\n",
      "293/293 [==============================] - 16s 54ms/step - loss: 0.2406 - mean_squared_error: 0.2406\n",
      "Epoch 45/100\n",
      "293/293 [==============================] - 16s 56ms/step - loss: 0.2192 - mean_squared_error: 0.2192\n",
      "Epoch 46/100\n",
      "293/293 [==============================] - 16s 53ms/step - loss: 0.2220 - mean_squared_error: 0.2220\n",
      "Epoch 47/100\n",
      "293/293 [==============================] - 17s 58ms/step - loss: 0.2171 - mean_squared_error: 0.2171\n",
      "Epoch 48/100\n",
      "293/293 [==============================] - 16s 54ms/step - loss: 0.2149 - mean_squared_error: 0.2149\n",
      "Epoch 49/100\n",
      "293/293 [==============================] - 17s 56ms/step - loss: 0.2048 - mean_squared_error: 0.2048\n",
      "Epoch 50/100\n",
      "293/293 [==============================] - 15s 53ms/step - loss: 0.1829 - mean_squared_error: 0.1829\n",
      "Epoch 51/100\n",
      "293/293 [==============================] - 17s 58ms/step - loss: 0.1991 - mean_squared_error: 0.1991\n",
      "Epoch 52/100\n",
      "293/293 [==============================] - 17s 57ms/step - loss: 0.1979 - mean_squared_error: 0.1979\n",
      "Epoch 53/100\n",
      "293/293 [==============================] - 16s 55ms/step - loss: 0.1713 - mean_squared_error: 0.1713\n",
      "Epoch 54/100\n",
      "293/293 [==============================] - 16s 54ms/step - loss: 0.1654 - mean_squared_error: 0.1654\n",
      "Epoch 55/100\n",
      "293/293 [==============================] - 16s 54ms/step - loss: 0.1562 - mean_squared_error: 0.1562\n",
      "Epoch 56/100\n",
      "293/293 [==============================] - 16s 56ms/step - loss: 0.1533 - mean_squared_error: 0.1533\n",
      "Epoch 57/100\n",
      "293/293 [==============================] - 16s 55ms/step - loss: 0.1491 - mean_squared_error: 0.1491\n",
      "Epoch 58/100\n",
      "293/293 [==============================] - 16s 53ms/step - loss: 0.1506 - mean_squared_error: 0.1506\n",
      "Epoch 59/100\n",
      "293/293 [==============================] - 17s 59ms/step - loss: 0.1486 - mean_squared_error: 0.1486\n",
      "Epoch 60/100\n",
      "293/293 [==============================] - 16s 56ms/step - loss: 0.1475 - mean_squared_error: 0.1475\n",
      "Epoch 61/100\n",
      "293/293 [==============================] - 17s 57ms/step - loss: 0.1464 - mean_squared_error: 0.1464\n",
      "Epoch 62/100\n",
      "293/293 [==============================] - 16s 54ms/step - loss: 0.1443 - mean_squared_error: 0.1443\n",
      "Epoch 63/100\n",
      "293/293 [==============================] - 17s 57ms/step - loss: 0.1370 - mean_squared_error: 0.1370\n",
      "Epoch 64/100\n",
      "293/293 [==============================] - 17s 57ms/step - loss: 0.1352 - mean_squared_error: 0.1352\n",
      "Epoch 65/100\n",
      "293/293 [==============================] - 16s 54ms/step - loss: 0.1344 - mean_squared_error: 0.1344\n",
      "Epoch 66/100\n",
      "293/293 [==============================] - 16s 56ms/step - loss: 0.1344 - mean_squared_error: 0.1344\n",
      "Epoch 67/100\n",
      "293/293 [==============================] - 17s 59ms/step - loss: 0.1387 - mean_squared_error: 0.1387\n",
      "Epoch 68/100\n",
      "293/293 [==============================] - 17s 57ms/step - loss: 0.1352 - mean_squared_error: 0.1352\n",
      "Epoch 69/100\n",
      "293/293 [==============================] - 17s 58ms/step - loss: 0.1302 - mean_squared_error: 0.1302\n",
      "Epoch 70/100\n",
      "293/293 [==============================] - 16s 56ms/step - loss: 0.1257 - mean_squared_error: 0.1257\n",
      "Epoch 71/100\n",
      "293/293 [==============================] - 16s 55ms/step - loss: 0.1261 - mean_squared_error: 0.1261\n",
      "Epoch 72/100\n",
      "293/293 [==============================] - 16s 55ms/step - loss: 0.1218 - mean_squared_error: 0.1218\n",
      "Epoch 73/100\n",
      "293/293 [==============================] - 16s 55ms/step - loss: 0.1245 - mean_squared_error: 0.1245\n",
      "Epoch 74/100\n",
      "293/293 [==============================] - 17s 57ms/step - loss: 0.1218 - mean_squared_error: 0.1218\n",
      "Epoch 75/100\n",
      "293/293 [==============================] - 17s 57ms/step - loss: 0.1212 - mean_squared_error: 0.1212\n",
      "Epoch 76/100\n",
      "293/293 [==============================] - 17s 57ms/step - loss: 0.1216 - mean_squared_error: 0.1216\n",
      "Epoch 77/100\n",
      "293/293 [==============================] - 16s 55ms/step - loss: 0.1208 - mean_squared_error: 0.1208\n",
      "Epoch 78/100\n",
      "293/293 [==============================] - 17s 58ms/step - loss: 0.1175 - mean_squared_error: 0.1175\n",
      "Epoch 79/100\n",
      "293/293 [==============================] - 17s 57ms/step - loss: 0.1186 - mean_squared_error: 0.1186\n",
      "Epoch 80/100\n",
      "293/293 [==============================] - 16s 56ms/step - loss: 0.1198 - mean_squared_error: 0.1198\n",
      "Epoch 81/100\n",
      "293/293 [==============================] - 17s 60ms/step - loss: 0.1222 - mean_squared_error: 0.1222\n",
      "Epoch 82/100\n",
      "293/293 [==============================] - 18s 60ms/step - loss: 0.1153 - mean_squared_error: 0.1153\n",
      "Epoch 83/100\n",
      "293/293 [==============================] - 17s 57ms/step - loss: 0.1271 - mean_squared_error: 0.1271\n",
      "Epoch 84/100\n",
      "293/293 [==============================] - 16s 56ms/step - loss: 0.1129 - mean_squared_error: 0.1129\n",
      "Epoch 85/100\n",
      "293/293 [==============================] - 17s 59ms/step - loss: 0.1124 - mean_squared_error: 0.1124\n",
      "Epoch 86/100\n",
      "293/293 [==============================] - 17s 57ms/step - loss: 0.1163 - mean_squared_error: 0.1163\n",
      "Epoch 87/100\n",
      "293/293 [==============================] - 16s 55ms/step - loss: 0.1117 - mean_squared_error: 0.1117\n",
      "Epoch 88/100\n",
      "293/293 [==============================] - 17s 56ms/step - loss: 0.1121 - mean_squared_error: 0.1121\n",
      "Epoch 89/100\n",
      "293/293 [==============================] - 16s 56ms/step - loss: 0.1120 - mean_squared_error: 0.1120\n",
      "Epoch 90/100\n",
      "293/293 [==============================] - 16s 55ms/step - loss: 0.1113 - mean_squared_error: 0.1113\n",
      "Epoch 91/100\n",
      "293/293 [==============================] - 17s 57ms/step - loss: 0.1131 - mean_squared_error: 0.1131\n",
      "Epoch 92/100\n",
      "293/293 [==============================] - 17s 57ms/step - loss: 0.1125 - mean_squared_error: 0.1125\n",
      "Epoch 93/100\n",
      "293/293 [==============================] - 16s 55ms/step - loss: 0.1100 - mean_squared_error: 0.1100\n",
      "Epoch 94/100\n",
      "293/293 [==============================] - 17s 56ms/step - loss: 0.1097 - mean_squared_error: 0.1097\n",
      "Epoch 95/100\n",
      "293/293 [==============================] - 18s 61ms/step - loss: 0.1124 - mean_squared_error: 0.1124\n",
      "Epoch 96/100\n",
      "293/293 [==============================] - 17s 57ms/step - loss: 0.1095 - mean_squared_error: 0.1095\n",
      "Epoch 97/100\n",
      "293/293 [==============================] - 17s 58ms/step - loss: 0.1072 - mean_squared_error: 0.1072\n",
      "Epoch 98/100\n",
      "293/293 [==============================] - 17s 57ms/step - loss: 0.1082 - mean_squared_error: 0.1082\n",
      "Epoch 99/100\n",
      "293/293 [==============================] - 17s 58ms/step - loss: 0.1087 - mean_squared_error: 0.1087\n",
      "Epoch 100/100\n",
      "293/293 [==============================] - 17s 58ms/step - loss: 0.1113 - mean_squared_error: 0.1113\n"
     ]
    },
    {
     "data": {
      "text/plain": [
       "<tensorflow.python.keras.callbacks.History at 0x7f4aeaa7eba8>"
      ]
     },
     "execution_count": 5,
     "metadata": {},
     "output_type": "execute_result"
    }
   ],
   "source": [
    "feature_number=1 #feature:T (degC)\n",
    "inputs = keras.Input(shape=(sequencelength,feature_number))\n",
    "x = layers.LSTM(units=100)(inputs) #LSTM layer로 학습 모델을 구성\n",
    "outputs = keras.layers.Dense(1)(x)\n",
    "model = keras.Model(inputs=inputs, outputs=outputs)\n",
    "model.compile(optimizer=Adam(learning_rate=0.001), loss='mse', metrics=[\"mean_squared_error\"])\n",
    "\n",
    "# loss 및 metric으로 mse 설정\n",
    "model.fit(train_dataset,epochs=100)"
   ]
  },
  {
   "cell_type": "code",
   "execution_count": 6,
   "metadata": {},
   "outputs": [
    {
     "name": "stdout",
     "output_type": "stream",
     "text": [
      "293/293 - 13s - loss: 0.1157 - mean_squared_error: 0.1157\n",
      "Train Data MSE: 0.11570044606924057\n"
     ]
    }
   ],
   "source": [
    "#최종 train data mse 측정\n",
    "metrics=model.evaluate(train_dataset, verbose=2)\n",
    "print(\"Train Data MSE:\", metrics[1])"
   ]
  },
  {
   "cell_type": "markdown",
   "metadata": {},
   "source": [
    "## predict"
   ]
  },
  {
   "cell_type": "code",
   "execution_count": 28,
   "metadata": {},
   "outputs": [],
   "source": [
    "#학습 데이터 30만장 이후의 6만장을 테스트 데이터로 설정\n",
    "test_data=temperature_data[300000:360000]\n",
    "test_mean,test_std =np.mean(test_data),np.std(test_data)\n",
    "test_data=(test_data-test_mean)/test_std\n",
    "test_data=np.expand_dims(np.array(test_data),-1)"
   ]
  },
  {
   "cell_type": "code",
   "execution_count": 29,
   "metadata": {},
   "outputs": [],
   "source": [
    "#test dataset 구성\n",
    "test_datax=test_data[:-(sequencelength+predict_step)]\n",
    "test_datay=test_data[sequencelength+predict_step:]\n",
    "test_dataset = keras.preprocessing.timeseries_dataset_from_array(test_datax, test_datay, sequence_length=sequencelength, batch_size=batch_size)"
   ]
  },
  {
   "cell_type": "code",
   "execution_count": 33,
   "metadata": {},
   "outputs": [
    {
     "name": "stdout",
     "output_type": "stream",
     "text": [
      "59/59 - 3s - loss: 0.1613 - mean_squared_error: 0.1613\n",
      "Test Data MSE: 0.1612764596939087\n"
     ]
    }
   ],
   "source": [
    "#최종 test data mse 측정\n",
    "metrics=model.evaluate(test_dataset, verbose=2)\n",
    "print(\"Test Data MSE:\", metrics[1])"
   ]
  },
  {
   "cell_type": "markdown",
   "metadata": {},
   "source": [
    "## plot result"
   ]
  },
  {
   "cell_type": "code",
   "execution_count": 38,
   "metadata": {},
   "outputs": [],
   "source": [
    "#sample test data\n",
    "for x, y in test_dataset.take(1):\n",
    "    sample_testx=x\n",
    "    sample_testy=y\n",
    "\n",
    "#predcit sample data\n",
    "predict_results=model.predict(sample_testx)"
   ]
  },
  {
   "cell_type": "code",
   "execution_count": 39,
   "metadata": {},
   "outputs": [
    {
     "data": {
      "image/png": "[encoded data removed]",
      "text/plain": [
       "<Figure size 432x288 with 1 Axes>"
      ]
     },
     "metadata": {
      "needs_background": "light"
     },
     "output_type": "display_data"
    },
    {
     "data": {
      "image/png": "[encoded data removed]",
      "text/plain": [
       "<Figure size 432x288 with 1 Axes>"
      ]
     },
     "metadata": {
      "needs_background": "light"
     },
     "output_type": "display_data"
    },
    {
     "data": {
      "image/png": "[encoded data removed]",
      "text/plain": [
       "<Figure size 432x288 with 1 Axes>"
      ]
     },
     "metadata": {
      "needs_background": "light"
     },
     "output_type": "display_data"
    }
   ],
   "source": [
    "#test data and predicted value plot\n",
    "step=np.array(range(0,261))\n",
    "plt.title(\"Test Data Result 1\")\n",
    "plt.xlabel(\"Step\")\n",
    "plt.ylabel(\"Y value\")\n",
    "plt.plot(np.array(range(0,200)), sample_testx[0], 'b', label='test data input')\n",
    "plt.plot([260], sample_testy[0], 'ro', label='label data')\n",
    "plt.plot([260], predict_results[0],'go', label='predicted value')\n",
    "plt.legend()\n",
    "plt.show()\n",
    "plt.title(\"Test Data Result 2\")\n",
    "plt.xlabel(\"Step\")\n",
    "plt.ylabel(\"Y value\")\n",
    "plt.plot(np.array(range(0,200)), sample_testx[500], 'b', label='test data input')\n",
    "plt.plot([260], sample_testy[500], 'ro', label='label data')\n",
    "plt.plot([260], predict_results[500],'go', label='predicted value')\n",
    "plt.legend()\n",
    "plt.show()\n",
    "plt.title(\"Test Data Result 3\")\n",
    "plt.xlabel(\"Step\")\n",
    "plt.ylabel(\"Y value\")\n",
    "plt.plot(np.array(range(0,200)), sample_testx[1000], 'b', label='test data input')\n",
    "plt.plot([260], sample_testy[1000], 'ro', label='label data')\n",
    "plt.plot([260], predict_results[1000],'go', label='predicted value')\n",
    "plt.legend()\n",
    "plt.show()"
   ]
  },
  {
   "cell_type": "code",
   "execution_count": null,
   "metadata": {},
   "outputs": [],
   "source": []
  }
 ],
 "metadata": {
  "anaconda-cloud": {},
  "kernelspec": {
   "display_name": "Python 3",
   "language": "python",
   "name": "python3"
  },
  "language_info": {
   "codemirror_mode": {
    "name": "ipython",
    "version": 3
   },
   "file_extension": ".py",
   "mimetype": "text/x-python",
   "name": "python",
   "nbconvert_exporter": "python",
   "pygments_lexer": "ipython3",
   "version": "3.6.8"
  }
 },
 "nbformat": 4,
 "nbformat_minor": 4
}
