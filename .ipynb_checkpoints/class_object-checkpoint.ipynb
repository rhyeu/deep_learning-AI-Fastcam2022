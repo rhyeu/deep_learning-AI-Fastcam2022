{
 "cells": [
  {
   "cell_type": "markdown",
   "id": "06babd22-b905-456b-a3f7-fb4a8c04999c",
   "metadata": {},
   "source": [
    "# 클래스 & 오브젝트 이해하기"
   ]
  },
  {
   "cell_type": "code",
   "execution_count": null,
   "id": "bf06e941-19eb-4f30-9549-a3de18d53b34",
   "metadata": {},
   "outputs": [],
   "source": [
    "- 클래스\n",
    "    - '인간'이라는 타입\n",
    "    - 속성 & 행동을 가짐\n",
    "    \n",
    "- object\n",
    "    - 구체적인 사람 하나 하나"
   ]
  },
  {
   "cell_type": "markdown",
   "id": "26d60b47-4b84-40e0-a524-53ad78568f7e",
   "metadata": {},
   "source": [
    "**클래스**\n",
    "- 실세계의 것을 모델링하여 속성과 동작을 갖는 데이터 타입\n",
    "- python에서의 string, dict, list 모두 클래스로 존재\n",
    "- 예를 들어, 학생이라는 클래스를 만든다면, 학생을 나타내는 속성과 학생이 행하는 행동을 함께 정의할 수 있음.\n",
    "- 따라서, 다루고자 하는 데이터(변수)와 데이터를 다루는 연산(함수)를 하나로 캡슐화하여 클래스로 표현\n",
    "- 모델링에서 중요시하는 속성에 따라 클래스의 속성과 행동이 각각 달라짐\n",
    "\n",
    "**Object**\n",
    "- 클래스로 생성되어 구체화된 객체(인스턴스)\n",
    "- 파이썬의 모든것(int, str, list, ..etc)는 객체(인스턴스)\n",
    "- 실제로 class가 인스턴스화되어 메모리에 상주하는 상태를 의미\n",
    "- class가 빵틀이라면, object는 실제로 빵틀로 찍어낸 빵이라고 비유 가능"
   ]
  },
  {
   "cell_type": "code",
   "execution_count": 6,
   "id": "61a9dd8e-1659-443b-8f8e-c13e347fa197",
   "metadata": {},
   "outputs": [],
   "source": [
    "## class 선언하기\n",
    "### 객체를 생성하기 위해서는 객체의 모체가 되는 class를 미리 선언해야함.\n",
    "class Person:\n",
    "    pass"
   ]
  },
  {
   "cell_type": "code",
   "execution_count": 7,
   "id": "e7d41b7a-004c-469a-b57e-6cbce2fef779",
   "metadata": {},
   "outputs": [],
   "source": [
    "bob = Person()\n",
    "cathy = Person()"
   ]
  },
  {
   "cell_type": "code",
   "execution_count": 10,
   "id": "a1e9ad1d-0c28-4ab3-87f6-2e3022657720",
   "metadata": {},
   "outputs": [],
   "source": [
    "a = list()\n",
    "b = list()"
   ]
  },
  {
   "cell_type": "code",
   "execution_count": 11,
   "id": "a3d4c53b-01d6-4d22-bd78-1f8c08c977ea",
   "metadata": {},
   "outputs": [
    {
     "name": "stdout",
     "output_type": "stream",
     "text": [
      "<class '__main__.Person'> <class '__main__.Person'>\n",
      "<class 'list'> <class 'list'>\n"
     ]
    }
   ],
   "source": [
    "print(type(bob), type(cathy))\n",
    "print(type(a), type(b))"
   ]
  },
  {
   "cell_type": "code",
   "execution_count": null,
   "id": "a4d79c19-bfae-483e-90b3-53b32afa216f",
   "metadata": {},
   "outputs": [],
   "source": []
  },
  {
   "cell_type": "code",
   "execution_count": null,
   "id": "a9f6fd04-e2bc-408c-b33e-edf2a0f02402",
   "metadata": {},
   "outputs": [],
   "source": []
  },
  {
   "cell_type": "code",
   "execution_count": null,
   "id": "1335574a-070e-4378-850b-fc75b3257ebd",
   "metadata": {},
   "outputs": [],
   "source": []
  },
  {
   "cell_type": "code",
   "execution_count": null,
   "id": "0ef9af94-02c2-483e-b384-59ebbe54f323",
   "metadata": {},
   "outputs": [],
   "source": []
  },
  {
   "cell_type": "code",
   "execution_count": null,
   "id": "2c402f83-699e-4eb1-87d6-8137fb304c7d",
   "metadata": {},
   "outputs": [],
   "source": []
  },
  {
   "cell_type": "code",
   "execution_count": null,
   "id": "1f152722-bb9b-4664-b398-c084496816d7",
   "metadata": {},
   "outputs": [],
   "source": []
  },
  {
   "cell_type": "code",
   "execution_count": null,
   "id": "f30712d4-87c8-4846-bdc0-c7a8d5f751f7",
   "metadata": {},
   "outputs": [],
   "source": []
  },
  {
   "cell_type": "code",
   "execution_count": null,
   "id": "7b29273d-fa89-44db-9748-f3149f5e3ce6",
   "metadata": {},
   "outputs": [],
   "source": []
  },
  {
   "cell_type": "code",
   "execution_count": null,
   "id": "66adfba1-9ace-4eaf-afae-908132dbf9e0",
   "metadata": {},
   "outputs": [],
   "source": []
  },
  {
   "cell_type": "code",
   "execution_count": null,
   "id": "fd59d722-9daa-4b72-ad2a-4d75097ed567",
   "metadata": {},
   "outputs": [],
   "source": []
  },
  {
   "cell_type": "code",
   "execution_count": null,
   "id": "5626b652-791b-4cbf-8942-d89f7078f035",
   "metadata": {},
   "outputs": [],
   "source": []
  },
  {
   "cell_type": "code",
   "execution_count": null,
   "id": "c1b7f2b0-9044-4209-abe1-9dc23708655d",
   "metadata": {},
   "outputs": [],
   "source": []
  },
  {
   "cell_type": "code",
   "execution_count": null,
   "id": "21cbcf11-ac11-4e1e-89a4-f23afc806dab",
   "metadata": {},
   "outputs": [],
   "source": []
  },
  {
   "cell_type": "code",
   "execution_count": null,
   "id": "ba9f012b-3ebc-40ea-b659-db86ad00f213",
   "metadata": {},
   "outputs": [],
   "source": []
  },
  {
   "cell_type": "code",
   "execution_count": null,
   "id": "0ba1eca0-b891-4a38-a7db-76fe02f06f36",
   "metadata": {},
   "outputs": [],
   "source": []
  },
  {
   "cell_type": "code",
   "execution_count": null,
   "id": "fe06de69-e8aa-4066-8613-98e48d8bf927",
   "metadata": {},
   "outputs": [],
   "source": []
  },
  {
   "cell_type": "code",
   "execution_count": null,
   "id": "36e45195-5dc5-46f4-8d99-ea7f2865d800",
   "metadata": {},
   "outputs": [],
   "source": []
  },
  {
   "cell_type": "code",
   "execution_count": null,
   "id": "eb535f73-f3ce-4ee0-b74d-19610b4d770d",
   "metadata": {},
   "outputs": [],
   "source": []
  },
  {
   "cell_type": "code",
   "execution_count": null,
   "id": "ae5662b5-ecc1-4204-a323-2771f3dffd38",
   "metadata": {},
   "outputs": [],
   "source": []
  },
  {
   "cell_type": "code",
   "execution_count": null,
   "id": "7aed9e10-605b-432e-a0eb-7f73532339ca",
   "metadata": {},
   "outputs": [],
   "source": []
  },
  {
   "cell_type": "code",
   "execution_count": null,
   "id": "9ff0300b-afc3-40ed-9a9c-c58566278cc8",
   "metadata": {},
   "outputs": [],
   "source": []
  },
  {
   "cell_type": "code",
   "execution_count": null,
   "id": "9fd6aa61-4400-454e-9a4a-deb840d98b56",
   "metadata": {},
   "outputs": [],
   "source": []
  },
  {
   "cell_type": "code",
   "execution_count": null,
   "id": "40f66332-282f-4a4b-adf9-9c6af5791ab6",
   "metadata": {},
   "outputs": [],
   "source": []
  },
  {
   "cell_type": "code",
   "execution_count": null,
   "id": "c841f6c6-792c-4db8-959e-21962d91d3aa",
   "metadata": {},
   "outputs": [],
   "source": []
  },
  {
   "cell_type": "code",
   "execution_count": null,
   "id": "6ca9b354-6fd7-4103-b681-1e2011d32441",
   "metadata": {},
   "outputs": [],
   "source": []
  }
 ],
 "metadata": {
  "kernelspec": {
   "display_name": "Python 3 (ipykernel)",
   "language": "python",
   "name": "python3"
  },
  "language_info": {
   "codemirror_mode": {
    "name": "ipython",
    "version": 3
   },
   "file_extension": ".py",
   "mimetype": "text/x-python",
   "name": "python",
   "nbconvert_exporter": "python",
   "pygments_lexer": "ipython3",
   "version": "3.9.12"
  }
 },
 "nbformat": 4,
 "nbformat_minor": 5
}
